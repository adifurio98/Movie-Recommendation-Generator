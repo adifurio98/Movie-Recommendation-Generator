{
 "cells": [
  {
   "cell_type": "code",
   "execution_count": 113,
   "id": "db2513f3",
   "metadata": {},
   "outputs": [],
   "source": [
    "# Data Science Libs\n",
    "import pandas as pd\n",
    "import matplotlib.pyplot as plt\n",
    "import numpy as np\n",
    "import seaborn as sns\n",
    "import ast\n",
    "\n",
    "# model preprocessing & metrics\n",
    "from sklearn.model_selection import train_test_split\n",
    "from sklearn.preprocessing import StandardScaler, MinMaxScaler\n",
    "from sklearn.metrics import confusion_matrix, classification_report, roc_curve, auc\n",
    "\n",
    "# algorithm\n",
    "from sklearn.linear_model import LogisticRegression\n",
    "from sklearn.neighbors import KNeighborsClassifier\n",
    "from sklearn.tree import DecisionTreeClassifier\n",
    "from sklearn.ensemble import RandomForestClassifier\n",
    "from sklearn.ensemble import AdaBoostClassifier\n",
    "from xgboost import XGBClassifier\n",
    "from lightgbm import LGBMClassifier"
   ]
  },
  {
   "cell_type": "code",
   "execution_count": 74,
   "id": "f620afd5",
   "metadata": {},
   "outputs": [
    {
     "data": {
      "text/html": [
       "<div>\n",
       "<style scoped>\n",
       "    .dataframe tbody tr th:only-of-type {\n",
       "        vertical-align: middle;\n",
       "    }\n",
       "\n",
       "    .dataframe tbody tr th {\n",
       "        vertical-align: top;\n",
       "    }\n",
       "\n",
       "    .dataframe thead th {\n",
       "        text-align: right;\n",
       "    }\n",
       "</style>\n",
       "<table border=\"1\" class=\"dataframe\">\n",
       "  <thead>\n",
       "    <tr style=\"text-align: right;\">\n",
       "      <th></th>\n",
       "      <th>belongs_to_collection</th>\n",
       "      <th>budget</th>\n",
       "      <th>genres</th>\n",
       "      <th>original_language</th>\n",
       "      <th>original_title</th>\n",
       "      <th>popularity</th>\n",
       "      <th>production_companies</th>\n",
       "      <th>production_countries</th>\n",
       "      <th>release_date</th>\n",
       "      <th>revenue</th>\n",
       "      <th>runtime</th>\n",
       "      <th>spoken_languages</th>\n",
       "      <th>title</th>\n",
       "      <th>vote_average</th>\n",
       "      <th>vote_count</th>\n",
       "    </tr>\n",
       "  </thead>\n",
       "  <tbody>\n",
       "    <tr>\n",
       "      <th>0</th>\n",
       "      <td>{'id': 10194, 'name': 'Toy Story Collection', ...</td>\n",
       "      <td>30000000</td>\n",
       "      <td>[{'id': 16, 'name': 'Animation'}, {'id': 35, '...</td>\n",
       "      <td>en</td>\n",
       "      <td>Toy Story</td>\n",
       "      <td>21.946943</td>\n",
       "      <td>[{'name': 'Pixar Animation Studios', 'id': 3}]</td>\n",
       "      <td>[{'iso_3166_1': 'US', 'name': 'United States o...</td>\n",
       "      <td>10/30/1995</td>\n",
       "      <td>373554033.0</td>\n",
       "      <td>81.0</td>\n",
       "      <td>[{'iso_639_1': 'en', 'name': 'English'}]</td>\n",
       "      <td>Toy Story</td>\n",
       "      <td>7.7</td>\n",
       "      <td>5415.0</td>\n",
       "    </tr>\n",
       "    <tr>\n",
       "      <th>1</th>\n",
       "      <td>NaN</td>\n",
       "      <td>65000000</td>\n",
       "      <td>[{'id': 12, 'name': 'Adventure'}, {'id': 14, '...</td>\n",
       "      <td>en</td>\n",
       "      <td>Jumanji</td>\n",
       "      <td>17.015539</td>\n",
       "      <td>[{'name': 'TriStar Pictures', 'id': 559}, {'na...</td>\n",
       "      <td>[{'iso_3166_1': 'US', 'name': 'United States o...</td>\n",
       "      <td>12/15/1995</td>\n",
       "      <td>262797249.0</td>\n",
       "      <td>104.0</td>\n",
       "      <td>[{'iso_639_1': 'en', 'name': 'English'}, {'iso...</td>\n",
       "      <td>Jumanji</td>\n",
       "      <td>6.9</td>\n",
       "      <td>2413.0</td>\n",
       "    </tr>\n",
       "    <tr>\n",
       "      <th>2</th>\n",
       "      <td>{'id': 119050, 'name': 'Grumpy Old Men Collect...</td>\n",
       "      <td>0</td>\n",
       "      <td>[{'id': 10749, 'name': 'Romance'}, {'id': 35, ...</td>\n",
       "      <td>en</td>\n",
       "      <td>Grumpier Old Men</td>\n",
       "      <td>11.7129</td>\n",
       "      <td>[{'name': 'Warner Bros.', 'id': 6194}, {'name'...</td>\n",
       "      <td>[{'iso_3166_1': 'US', 'name': 'United States o...</td>\n",
       "      <td>12/22/1995</td>\n",
       "      <td>0.0</td>\n",
       "      <td>101.0</td>\n",
       "      <td>[{'iso_639_1': 'en', 'name': 'English'}]</td>\n",
       "      <td>Grumpier Old Men</td>\n",
       "      <td>6.5</td>\n",
       "      <td>92.0</td>\n",
       "    </tr>\n",
       "    <tr>\n",
       "      <th>3</th>\n",
       "      <td>NaN</td>\n",
       "      <td>16000000</td>\n",
       "      <td>[{'id': 35, 'name': 'Comedy'}, {'id': 18, 'nam...</td>\n",
       "      <td>en</td>\n",
       "      <td>Waiting to Exhale</td>\n",
       "      <td>3.859495</td>\n",
       "      <td>[{'name': 'Twentieth Century Fox Film Corporat...</td>\n",
       "      <td>[{'iso_3166_1': 'US', 'name': 'United States o...</td>\n",
       "      <td>12/22/1995</td>\n",
       "      <td>81452156.0</td>\n",
       "      <td>127.0</td>\n",
       "      <td>[{'iso_639_1': 'en', 'name': 'English'}]</td>\n",
       "      <td>Waiting to Exhale</td>\n",
       "      <td>6.1</td>\n",
       "      <td>34.0</td>\n",
       "    </tr>\n",
       "    <tr>\n",
       "      <th>4</th>\n",
       "      <td>{'id': 96871, 'name': 'Father of the Bride Col...</td>\n",
       "      <td>0</td>\n",
       "      <td>[{'id': 35, 'name': 'Comedy'}]</td>\n",
       "      <td>en</td>\n",
       "      <td>Father of the Bride Part II</td>\n",
       "      <td>8.387519</td>\n",
       "      <td>[{'name': 'Sandollar Productions', 'id': 5842}...</td>\n",
       "      <td>[{'iso_3166_1': 'US', 'name': 'United States o...</td>\n",
       "      <td>2/10/1995</td>\n",
       "      <td>76578911.0</td>\n",
       "      <td>106.0</td>\n",
       "      <td>[{'iso_639_1': 'en', 'name': 'English'}]</td>\n",
       "      <td>Father of the Bride Part II</td>\n",
       "      <td>5.7</td>\n",
       "      <td>173.0</td>\n",
       "    </tr>\n",
       "  </tbody>\n",
       "</table>\n",
       "</div>"
      ],
      "text/plain": [
       "                               belongs_to_collection    budget  \\\n",
       "0  {'id': 10194, 'name': 'Toy Story Collection', ...  30000000   \n",
       "1                                                NaN  65000000   \n",
       "2  {'id': 119050, 'name': 'Grumpy Old Men Collect...         0   \n",
       "3                                                NaN  16000000   \n",
       "4  {'id': 96871, 'name': 'Father of the Bride Col...         0   \n",
       "\n",
       "                                              genres original_language  \\\n",
       "0  [{'id': 16, 'name': 'Animation'}, {'id': 35, '...                en   \n",
       "1  [{'id': 12, 'name': 'Adventure'}, {'id': 14, '...                en   \n",
       "2  [{'id': 10749, 'name': 'Romance'}, {'id': 35, ...                en   \n",
       "3  [{'id': 35, 'name': 'Comedy'}, {'id': 18, 'nam...                en   \n",
       "4                     [{'id': 35, 'name': 'Comedy'}]                en   \n",
       "\n",
       "                original_title popularity  \\\n",
       "0                    Toy Story  21.946943   \n",
       "1                      Jumanji  17.015539   \n",
       "2             Grumpier Old Men    11.7129   \n",
       "3            Waiting to Exhale   3.859495   \n",
       "4  Father of the Bride Part II   8.387519   \n",
       "\n",
       "                                production_companies  \\\n",
       "0     [{'name': 'Pixar Animation Studios', 'id': 3}]   \n",
       "1  [{'name': 'TriStar Pictures', 'id': 559}, {'na...   \n",
       "2  [{'name': 'Warner Bros.', 'id': 6194}, {'name'...   \n",
       "3  [{'name': 'Twentieth Century Fox Film Corporat...   \n",
       "4  [{'name': 'Sandollar Productions', 'id': 5842}...   \n",
       "\n",
       "                                production_countries release_date  \\\n",
       "0  [{'iso_3166_1': 'US', 'name': 'United States o...   10/30/1995   \n",
       "1  [{'iso_3166_1': 'US', 'name': 'United States o...   12/15/1995   \n",
       "2  [{'iso_3166_1': 'US', 'name': 'United States o...   12/22/1995   \n",
       "3  [{'iso_3166_1': 'US', 'name': 'United States o...   12/22/1995   \n",
       "4  [{'iso_3166_1': 'US', 'name': 'United States o...    2/10/1995   \n",
       "\n",
       "       revenue  runtime                                   spoken_languages  \\\n",
       "0  373554033.0     81.0           [{'iso_639_1': 'en', 'name': 'English'}]   \n",
       "1  262797249.0    104.0  [{'iso_639_1': 'en', 'name': 'English'}, {'iso...   \n",
       "2          0.0    101.0           [{'iso_639_1': 'en', 'name': 'English'}]   \n",
       "3   81452156.0    127.0           [{'iso_639_1': 'en', 'name': 'English'}]   \n",
       "4   76578911.0    106.0           [{'iso_639_1': 'en', 'name': 'English'}]   \n",
       "\n",
       "                         title  vote_average  vote_count  \n",
       "0                    Toy Story           7.7      5415.0  \n",
       "1                      Jumanji           6.9      2413.0  \n",
       "2             Grumpier Old Men           6.5        92.0  \n",
       "3            Waiting to Exhale           6.1        34.0  \n",
       "4  Father of the Bride Part II           5.7       173.0  "
      ]
     },
     "execution_count": 74,
     "metadata": {},
     "output_type": "execute_result"
    }
   ],
   "source": [
    "# Import the data - Movies Metadata\n",
    "df = pd.read_csv(\"moviedata/Movie_meta_cleaned.csv\")\n",
    "df.head()"
   ]
  },
  {
   "cell_type": "code",
   "execution_count": 75,
   "id": "f2ddd29f",
   "metadata": {},
   "outputs": [],
   "source": [
    "#Function to cleaned the columns of lists of dicts to pull the names\n",
    "def parse_column(x):\n",
    "    try:\n",
    "        name = ast.literal_eval(x)[0]['name']\n",
    "    except: \n",
    "        name = None\n",
    "    \n",
    "    return(name)"
   ]
  },
  {
   "cell_type": "code",
   "execution_count": 76,
   "id": "c4a78cbf",
   "metadata": {},
   "outputs": [
    {
     "data": {
      "text/html": [
       "<div>\n",
       "<style scoped>\n",
       "    .dataframe tbody tr th:only-of-type {\n",
       "        vertical-align: middle;\n",
       "    }\n",
       "\n",
       "    .dataframe tbody tr th {\n",
       "        vertical-align: top;\n",
       "    }\n",
       "\n",
       "    .dataframe thead th {\n",
       "        text-align: right;\n",
       "    }\n",
       "</style>\n",
       "<table border=\"1\" class=\"dataframe\">\n",
       "  <thead>\n",
       "    <tr style=\"text-align: right;\">\n",
       "      <th></th>\n",
       "      <th>belongs_to_collection</th>\n",
       "      <th>budget</th>\n",
       "      <th>genres</th>\n",
       "      <th>original_language</th>\n",
       "      <th>original_title</th>\n",
       "      <th>popularity</th>\n",
       "      <th>production_companies</th>\n",
       "      <th>production_countries</th>\n",
       "      <th>release_date</th>\n",
       "      <th>revenue</th>\n",
       "      <th>runtime</th>\n",
       "      <th>spoken_languages</th>\n",
       "      <th>title</th>\n",
       "      <th>vote_average</th>\n",
       "      <th>vote_count</th>\n",
       "      <th>genre</th>\n",
       "      <th>production_company</th>\n",
       "      <th>production_country</th>\n",
       "      <th>spoken_language</th>\n",
       "    </tr>\n",
       "  </thead>\n",
       "  <tbody>\n",
       "    <tr>\n",
       "      <th>0</th>\n",
       "      <td>{'id': 10194, 'name': 'Toy Story Collection', ...</td>\n",
       "      <td>30000000</td>\n",
       "      <td>[{'id': 16, 'name': 'Animation'}, {'id': 35, '...</td>\n",
       "      <td>en</td>\n",
       "      <td>Toy Story</td>\n",
       "      <td>21.946943</td>\n",
       "      <td>[{'name': 'Pixar Animation Studios', 'id': 3}]</td>\n",
       "      <td>[{'iso_3166_1': 'US', 'name': 'United States o...</td>\n",
       "      <td>10/30/1995</td>\n",
       "      <td>373554033.0</td>\n",
       "      <td>81.0</td>\n",
       "      <td>[{'iso_639_1': 'en', 'name': 'English'}]</td>\n",
       "      <td>Toy Story</td>\n",
       "      <td>7.7</td>\n",
       "      <td>5415.0</td>\n",
       "      <td>Animation</td>\n",
       "      <td>Pixar Animation Studios</td>\n",
       "      <td>United States of America</td>\n",
       "      <td>English</td>\n",
       "    </tr>\n",
       "    <tr>\n",
       "      <th>1</th>\n",
       "      <td>NaN</td>\n",
       "      <td>65000000</td>\n",
       "      <td>[{'id': 12, 'name': 'Adventure'}, {'id': 14, '...</td>\n",
       "      <td>en</td>\n",
       "      <td>Jumanji</td>\n",
       "      <td>17.015539</td>\n",
       "      <td>[{'name': 'TriStar Pictures', 'id': 559}, {'na...</td>\n",
       "      <td>[{'iso_3166_1': 'US', 'name': 'United States o...</td>\n",
       "      <td>12/15/1995</td>\n",
       "      <td>262797249.0</td>\n",
       "      <td>104.0</td>\n",
       "      <td>[{'iso_639_1': 'en', 'name': 'English'}, {'iso...</td>\n",
       "      <td>Jumanji</td>\n",
       "      <td>6.9</td>\n",
       "      <td>2413.0</td>\n",
       "      <td>Adventure</td>\n",
       "      <td>TriStar Pictures</td>\n",
       "      <td>United States of America</td>\n",
       "      <td>English</td>\n",
       "    </tr>\n",
       "    <tr>\n",
       "      <th>2</th>\n",
       "      <td>{'id': 119050, 'name': 'Grumpy Old Men Collect...</td>\n",
       "      <td>0</td>\n",
       "      <td>[{'id': 10749, 'name': 'Romance'}, {'id': 35, ...</td>\n",
       "      <td>en</td>\n",
       "      <td>Grumpier Old Men</td>\n",
       "      <td>11.7129</td>\n",
       "      <td>[{'name': 'Warner Bros.', 'id': 6194}, {'name'...</td>\n",
       "      <td>[{'iso_3166_1': 'US', 'name': 'United States o...</td>\n",
       "      <td>12/22/1995</td>\n",
       "      <td>0.0</td>\n",
       "      <td>101.0</td>\n",
       "      <td>[{'iso_639_1': 'en', 'name': 'English'}]</td>\n",
       "      <td>Grumpier Old Men</td>\n",
       "      <td>6.5</td>\n",
       "      <td>92.0</td>\n",
       "      <td>Romance</td>\n",
       "      <td>Warner Bros.</td>\n",
       "      <td>United States of America</td>\n",
       "      <td>English</td>\n",
       "    </tr>\n",
       "    <tr>\n",
       "      <th>3</th>\n",
       "      <td>NaN</td>\n",
       "      <td>16000000</td>\n",
       "      <td>[{'id': 35, 'name': 'Comedy'}, {'id': 18, 'nam...</td>\n",
       "      <td>en</td>\n",
       "      <td>Waiting to Exhale</td>\n",
       "      <td>3.859495</td>\n",
       "      <td>[{'name': 'Twentieth Century Fox Film Corporat...</td>\n",
       "      <td>[{'iso_3166_1': 'US', 'name': 'United States o...</td>\n",
       "      <td>12/22/1995</td>\n",
       "      <td>81452156.0</td>\n",
       "      <td>127.0</td>\n",
       "      <td>[{'iso_639_1': 'en', 'name': 'English'}]</td>\n",
       "      <td>Waiting to Exhale</td>\n",
       "      <td>6.1</td>\n",
       "      <td>34.0</td>\n",
       "      <td>Comedy</td>\n",
       "      <td>Twentieth Century Fox Film Corporation</td>\n",
       "      <td>United States of America</td>\n",
       "      <td>English</td>\n",
       "    </tr>\n",
       "    <tr>\n",
       "      <th>4</th>\n",
       "      <td>{'id': 96871, 'name': 'Father of the Bride Col...</td>\n",
       "      <td>0</td>\n",
       "      <td>[{'id': 35, 'name': 'Comedy'}]</td>\n",
       "      <td>en</td>\n",
       "      <td>Father of the Bride Part II</td>\n",
       "      <td>8.387519</td>\n",
       "      <td>[{'name': 'Sandollar Productions', 'id': 5842}...</td>\n",
       "      <td>[{'iso_3166_1': 'US', 'name': 'United States o...</td>\n",
       "      <td>2/10/1995</td>\n",
       "      <td>76578911.0</td>\n",
       "      <td>106.0</td>\n",
       "      <td>[{'iso_639_1': 'en', 'name': 'English'}]</td>\n",
       "      <td>Father of the Bride Part II</td>\n",
       "      <td>5.7</td>\n",
       "      <td>173.0</td>\n",
       "      <td>Comedy</td>\n",
       "      <td>Sandollar Productions</td>\n",
       "      <td>United States of America</td>\n",
       "      <td>English</td>\n",
       "    </tr>\n",
       "  </tbody>\n",
       "</table>\n",
       "</div>"
      ],
      "text/plain": [
       "                               belongs_to_collection    budget  \\\n",
       "0  {'id': 10194, 'name': 'Toy Story Collection', ...  30000000   \n",
       "1                                                NaN  65000000   \n",
       "2  {'id': 119050, 'name': 'Grumpy Old Men Collect...         0   \n",
       "3                                                NaN  16000000   \n",
       "4  {'id': 96871, 'name': 'Father of the Bride Col...         0   \n",
       "\n",
       "                                              genres original_language  \\\n",
       "0  [{'id': 16, 'name': 'Animation'}, {'id': 35, '...                en   \n",
       "1  [{'id': 12, 'name': 'Adventure'}, {'id': 14, '...                en   \n",
       "2  [{'id': 10749, 'name': 'Romance'}, {'id': 35, ...                en   \n",
       "3  [{'id': 35, 'name': 'Comedy'}, {'id': 18, 'nam...                en   \n",
       "4                     [{'id': 35, 'name': 'Comedy'}]                en   \n",
       "\n",
       "                original_title popularity  \\\n",
       "0                    Toy Story  21.946943   \n",
       "1                      Jumanji  17.015539   \n",
       "2             Grumpier Old Men    11.7129   \n",
       "3            Waiting to Exhale   3.859495   \n",
       "4  Father of the Bride Part II   8.387519   \n",
       "\n",
       "                                production_companies  \\\n",
       "0     [{'name': 'Pixar Animation Studios', 'id': 3}]   \n",
       "1  [{'name': 'TriStar Pictures', 'id': 559}, {'na...   \n",
       "2  [{'name': 'Warner Bros.', 'id': 6194}, {'name'...   \n",
       "3  [{'name': 'Twentieth Century Fox Film Corporat...   \n",
       "4  [{'name': 'Sandollar Productions', 'id': 5842}...   \n",
       "\n",
       "                                production_countries release_date  \\\n",
       "0  [{'iso_3166_1': 'US', 'name': 'United States o...   10/30/1995   \n",
       "1  [{'iso_3166_1': 'US', 'name': 'United States o...   12/15/1995   \n",
       "2  [{'iso_3166_1': 'US', 'name': 'United States o...   12/22/1995   \n",
       "3  [{'iso_3166_1': 'US', 'name': 'United States o...   12/22/1995   \n",
       "4  [{'iso_3166_1': 'US', 'name': 'United States o...    2/10/1995   \n",
       "\n",
       "       revenue  runtime                                   spoken_languages  \\\n",
       "0  373554033.0     81.0           [{'iso_639_1': 'en', 'name': 'English'}]   \n",
       "1  262797249.0    104.0  [{'iso_639_1': 'en', 'name': 'English'}, {'iso...   \n",
       "2          0.0    101.0           [{'iso_639_1': 'en', 'name': 'English'}]   \n",
       "3   81452156.0    127.0           [{'iso_639_1': 'en', 'name': 'English'}]   \n",
       "4   76578911.0    106.0           [{'iso_639_1': 'en', 'name': 'English'}]   \n",
       "\n",
       "                         title  vote_average  vote_count      genre  \\\n",
       "0                    Toy Story           7.7      5415.0  Animation   \n",
       "1                      Jumanji           6.9      2413.0  Adventure   \n",
       "2             Grumpier Old Men           6.5        92.0    Romance   \n",
       "3            Waiting to Exhale           6.1        34.0     Comedy   \n",
       "4  Father of the Bride Part II           5.7       173.0     Comedy   \n",
       "\n",
       "                       production_company        production_country  \\\n",
       "0                 Pixar Animation Studios  United States of America   \n",
       "1                        TriStar Pictures  United States of America   \n",
       "2                            Warner Bros.  United States of America   \n",
       "3  Twentieth Century Fox Film Corporation  United States of America   \n",
       "4                   Sandollar Productions  United States of America   \n",
       "\n",
       "  spoken_language  \n",
       "0         English  \n",
       "1         English  \n",
       "2         English  \n",
       "3         English  \n",
       "4         English  "
      ]
     },
     "execution_count": 76,
     "metadata": {},
     "output_type": "execute_result"
    }
   ],
   "source": [
    "#Create new columns for name only\n",
    "df['genre'] = df.genres.apply(lambda x: parse_column(x))\n",
    "df['production_company'] = df.production_companies.apply(lambda x: parse_column(x))\n",
    "df['production_country'] = df.production_countries.apply(lambda x: parse_column(x))\n",
    "df['spoken_language'] = df.spoken_languages.apply(lambda x: parse_column(x))\n",
    "\n",
    "df.head()"
   ]
  },
  {
   "cell_type": "code",
   "execution_count": 77,
   "id": "ea449cae",
   "metadata": {},
   "outputs": [],
   "source": [
    "#Correct the types of the following\n",
    "df['budget'] = pd.to_numeric(df.budget, errors='coerce')\n",
    "df['revenue'] = pd.to_numeric(df.revenue, errors='coerce')\n",
    "df['release_date'] = pd.to_datetime(df.release_date, errors='coerce')\n",
    "df['popularity'] = pd.to_numeric(df.popularity, errors='coerce')"
   ]
  },
  {
   "cell_type": "code",
   "execution_count": 78,
   "id": "6fa1fa08",
   "metadata": {},
   "outputs": [
    {
     "name": "stdout",
     "output_type": "stream",
     "text": [
      "<class 'pandas.core.frame.DataFrame'>\n",
      "RangeIndex: 45466 entries, 0 to 45465\n",
      "Data columns (total 19 columns):\n",
      " #   Column                 Non-Null Count  Dtype         \n",
      "---  ------                 --------------  -----         \n",
      " 0   belongs_to_collection  4494 non-null   object        \n",
      " 1   budget                 45463 non-null  float64       \n",
      " 2   genres                 45466 non-null  object        \n",
      " 3   original_language      45455 non-null  object        \n",
      " 4   original_title         45466 non-null  object        \n",
      " 5   popularity             45460 non-null  float64       \n",
      " 6   production_companies   45463 non-null  object        \n",
      " 7   production_countries   45463 non-null  object        \n",
      " 8   release_date           45376 non-null  datetime64[ns]\n",
      " 9   revenue                45460 non-null  float64       \n",
      " 10  runtime                45203 non-null  float64       \n",
      " 11  spoken_languages       45460 non-null  object        \n",
      " 12  title                  45460 non-null  object        \n",
      " 13  vote_average           45460 non-null  float64       \n",
      " 14  vote_count             45460 non-null  float64       \n",
      " 15  genre                  43024 non-null  object        \n",
      " 16  production_company     33585 non-null  object        \n",
      " 17  production_country     39178 non-null  object        \n",
      " 18  spoken_language        41631 non-null  object        \n",
      "dtypes: datetime64[ns](1), float64(6), object(12)\n",
      "memory usage: 6.6+ MB\n"
     ]
    }
   ],
   "source": [
    "df.info()"
   ]
  },
  {
   "cell_type": "code",
   "execution_count": 79,
   "id": "6becef37",
   "metadata": {},
   "outputs": [
    {
     "name": "stdout",
     "output_type": "stream",
     "text": [
      "<class 'pandas.core.frame.DataFrame'>\n",
      "RangeIndex: 45466 entries, 0 to 45465\n",
      "Data columns (total 12 columns):\n",
      " #   Column              Non-Null Count  Dtype         \n",
      "---  ------              --------------  -----         \n",
      " 0   budget              45463 non-null  float64       \n",
      " 1   popularity          45460 non-null  float64       \n",
      " 2   release_date        45376 non-null  datetime64[ns]\n",
      " 3   revenue             45460 non-null  float64       \n",
      " 4   runtime             45203 non-null  float64       \n",
      " 5   title               45460 non-null  object        \n",
      " 6   vote_average        45460 non-null  float64       \n",
      " 7   vote_count          45460 non-null  float64       \n",
      " 8   genre               43024 non-null  object        \n",
      " 9   production_company  33585 non-null  object        \n",
      " 10  production_country  39178 non-null  object        \n",
      " 11  spoken_language     41631 non-null  object        \n",
      "dtypes: datetime64[ns](1), float64(6), object(5)\n",
      "memory usage: 4.2+ MB\n"
     ]
    }
   ],
   "source": [
    "#Drop useless columns\n",
    "df = df.drop(columns=['belongs_to_collection', 'genres', 'original_language', 'original_title', 'production_companies', 'production_countries', 'spoken_languages'])\n",
    "df.info()"
   ]
  },
  {
   "cell_type": "code",
   "execution_count": 80,
   "id": "95d6cc0a",
   "metadata": {},
   "outputs": [
    {
     "name": "stdout",
     "output_type": "stream",
     "text": [
      "<class 'pandas.core.frame.DataFrame'>\n",
      "RangeIndex: 45466 entries, 0 to 45465\n",
      "Data columns (total 15 columns):\n",
      " #   Column              Non-Null Count  Dtype         \n",
      "---  ------              --------------  -----         \n",
      " 0   budget              45463 non-null  float64       \n",
      " 1   popularity          45460 non-null  float64       \n",
      " 2   release_date        45376 non-null  datetime64[ns]\n",
      " 3   revenue             45460 non-null  float64       \n",
      " 4   runtime             45203 non-null  float64       \n",
      " 5   title               45460 non-null  object        \n",
      " 6   vote_average        45460 non-null  float64       \n",
      " 7   vote_count          45460 non-null  float64       \n",
      " 8   genre               43024 non-null  object        \n",
      " 9   production_company  33585 non-null  object        \n",
      " 10  production_country  39178 non-null  object        \n",
      " 11  spoken_language     41631 non-null  object        \n",
      " 12  release_year        45376 non-null  float64       \n",
      " 13  release_month       45376 non-null  float64       \n",
      " 14  release_dayofweek   45376 non-null  float64       \n",
      "dtypes: datetime64[ns](1), float64(9), object(5)\n",
      "memory usage: 5.2+ MB\n"
     ]
    }
   ],
   "source": [
    "df['release_year'] = df.release_date.apply(lambda x: x.year)\n",
    "df['release_month'] = df.release_date.apply(lambda x: x.month)\n",
    "df['release_dayofweek'] = df.release_date.apply(lambda x: x.dayofweek)\n",
    "df.info()"
   ]
  },
  {
   "cell_type": "code",
   "execution_count": 81,
   "id": "96ba2e1f",
   "metadata": {},
   "outputs": [],
   "source": [
    "df = df.dropna().reset_index(drop=True)"
   ]
  },
  {
   "cell_type": "code",
   "execution_count": 82,
   "id": "70382100",
   "metadata": {},
   "outputs": [
    {
     "name": "stdout",
     "output_type": "stream",
     "text": [
      "<class 'pandas.core.frame.DataFrame'>\n",
      "RangeIndex: 32020 entries, 0 to 32019\n",
      "Data columns (total 15 columns):\n",
      " #   Column              Non-Null Count  Dtype         \n",
      "---  ------              --------------  -----         \n",
      " 0   budget              32020 non-null  float64       \n",
      " 1   popularity          32020 non-null  float64       \n",
      " 2   release_date        32020 non-null  datetime64[ns]\n",
      " 3   revenue             32020 non-null  float64       \n",
      " 4   runtime             32020 non-null  float64       \n",
      " 5   title               32020 non-null  object        \n",
      " 6   vote_average        32020 non-null  float64       \n",
      " 7   vote_count          32020 non-null  float64       \n",
      " 8   genre               32020 non-null  object        \n",
      " 9   production_company  32020 non-null  object        \n",
      " 10  production_country  32020 non-null  object        \n",
      " 11  spoken_language     32020 non-null  object        \n",
      " 12  release_year        32020 non-null  float64       \n",
      " 13  release_month       32020 non-null  float64       \n",
      " 14  release_dayofweek   32020 non-null  float64       \n",
      "dtypes: datetime64[ns](1), float64(9), object(5)\n",
      "memory usage: 3.7+ MB\n"
     ]
    }
   ],
   "source": [
    "df.info()"
   ]
  },
  {
   "cell_type": "code",
   "execution_count": 83,
   "id": "8626ef59",
   "metadata": {},
   "outputs": [],
   "source": [
    "#to produce weekend results\n",
    "df['release_is_weekend'] = df.release_date.apply(lambda x: x.dayofweek >3)\n",
    "#release_is_weekend(lambda x: x.dayofweek >3)"
   ]
  },
  {
   "cell_type": "code",
   "execution_count": 84,
   "id": "4096fa27",
   "metadata": {},
   "outputs": [
    {
     "name": "stdout",
     "output_type": "stream",
     "text": [
      "<class 'pandas.core.frame.DataFrame'>\n",
      "RangeIndex: 32020 entries, 0 to 32019\n",
      "Data columns (total 16 columns):\n",
      " #   Column              Non-Null Count  Dtype         \n",
      "---  ------              --------------  -----         \n",
      " 0   budget              32020 non-null  float64       \n",
      " 1   popularity          32020 non-null  float64       \n",
      " 2   release_date        32020 non-null  datetime64[ns]\n",
      " 3   revenue             32020 non-null  float64       \n",
      " 4   runtime             32020 non-null  float64       \n",
      " 5   title               32020 non-null  object        \n",
      " 6   vote_average        32020 non-null  float64       \n",
      " 7   vote_count          32020 non-null  float64       \n",
      " 8   genre               32020 non-null  object        \n",
      " 9   production_company  32020 non-null  object        \n",
      " 10  production_country  32020 non-null  object        \n",
      " 11  spoken_language     32020 non-null  object        \n",
      " 12  release_year        32020 non-null  float64       \n",
      " 13  release_month       32020 non-null  float64       \n",
      " 14  release_dayofweek   32020 non-null  float64       \n",
      " 15  release_is_weekend  32020 non-null  bool          \n",
      "dtypes: bool(1), datetime64[ns](1), float64(9), object(5)\n",
      "memory usage: 3.7+ MB\n"
     ]
    }
   ],
   "source": [
    "df.info()"
   ]
  },
  {
   "cell_type": "markdown",
   "id": "c53fc7c6",
   "metadata": {},
   "source": [
    "# Genres "
   ]
  },
  {
   "cell_type": "code",
   "execution_count": 85,
   "id": "fb2d69bd",
   "metadata": {},
   "outputs": [
    {
     "data": {
      "text/plain": [
       "Drama              9081\n",
       "Comedy             6562\n",
       "Action             3692\n",
       "Horror             2087\n",
       "Crime              1435\n",
       "Documentary        1334\n",
       "Thriller           1312\n",
       "Adventure          1301\n",
       "Romance             931\n",
       "Animation           830\n",
       "Fantasy             573\n",
       "Science Fiction     502\n",
       "Mystery             457\n",
       "Family              395\n",
       "Western             375\n",
       "Music               324\n",
       "War                 308\n",
       "TV Movie            245\n",
       "History             216\n",
       "Foreign              60\n",
       "Name: genre, dtype: int64"
      ]
     },
     "execution_count": 85,
     "metadata": {},
     "output_type": "execute_result"
    }
   ],
   "source": [
    "df.genre.value_counts()"
   ]
  },
  {
   "cell_type": "code",
   "execution_count": 86,
   "id": "aee4a489",
   "metadata": {},
   "outputs": [],
   "source": [
    "#11 categories: drama, comedy, action, horror, crime, documentary, thriller, romance, animation, fantasy, other\n",
    "#history -> documentary\n",
    "#thriller -> horror\n",
    "#mystery -> crime\n",
    "#war -> action\n",
    "#western ->action\n",
    "#science fiction -> fantasy\n",
    "#family -> animation\n",
    "#adventure -> action?\n",
    "#other = foreign, tv movie, music"
   ]
  },
  {
   "cell_type": "code",
   "execution_count": 87,
   "id": "ec907c61",
   "metadata": {},
   "outputs": [
    {
     "data": {
      "text/plain": [
       "Drama          9081\n",
       "Comedy         6562\n",
       "Action         4375\n",
       "Horror         3399\n",
       "Crime          1892\n",
       "Documentary    1550\n",
       "Adventure      1301\n",
       "Animation      1225\n",
       "Fantasy        1075\n",
       "Romance         931\n",
       "Music           324\n",
       "TV Movie        245\n",
       "Foreign          60\n",
       "Name: genre, dtype: int64"
      ]
     },
     "execution_count": 87,
     "metadata": {},
     "output_type": "execute_result"
    }
   ],
   "source": [
    "#Section to combine lower value genres into higher value\n",
    "#df.loc[df.genre['History'] == \"Strategic\", \"if_fielding_alignment\"] = \"Infield shift\"\n",
    "\n",
    "df.loc[df.genre == \"History\", \"genre\"] = \"Documentary\"\n",
    "df.loc[df.genre == \"Thriller\", \"genre\"] = \"Horror\"\n",
    "df.loc[df.genre == \"Western\", \"genre\"] = \"Action\"\n",
    "df.loc[df.genre == \"Mystery\", \"genre\"] = \"Crime\"\n",
    "df.loc[df.genre == \"War\", \"genre\"] = \"Action\"\n",
    "df.loc[df.genre == \"Science Fiction\", \"genre\"] = \"Fantasy\"\n",
    "df.loc[df.genre == \"Family\", \"genre\"] = \"Animation\"\n",
    "#df.loc[df.genre == \"History\", \"genre\"] = \"Documentary\"\n",
    "\n",
    "df.genre.value_counts()"
   ]
  },
  {
   "cell_type": "code",
   "execution_count": 88,
   "id": "25edf703",
   "metadata": {},
   "outputs": [
    {
     "data": {
      "text/plain": [
       "Drama          9081\n",
       "Comedy         6562\n",
       "Action         4375\n",
       "Horror         3399\n",
       "Crime          1892\n",
       "Documentary    1550\n",
       "Adventure      1301\n",
       "Animation      1225\n",
       "Fantasy        1075\n",
       "Romance         931\n",
       "Other           629\n",
       "Name: genre, dtype: int64"
      ]
     },
     "execution_count": 88,
     "metadata": {},
     "output_type": "execute_result"
    }
   ],
   "source": [
    "#Place TV Movie, Music and Foreign in an other category\n",
    "genre_small = [\"Drama\", \"Comedy\", \"Action\", \"Horror\", \"Crime\", \"Documentary\", \"Adventure\", \"Animation\", \"Fantasy\", \"Romance\"]\n",
    "df.loc[~df.genre.isin(genre_small), \"genre\"] = \"Other\"\n",
    "\n",
    "df.genre.value_counts()"
   ]
  },
  {
   "cell_type": "markdown",
   "id": "6c9f55a5",
   "metadata": {},
   "source": [
    "# Production_company"
   ]
  },
  {
   "cell_type": "code",
   "execution_count": 89,
   "id": "473836df",
   "metadata": {},
   "outputs": [
    {
     "data": {
      "text/plain": [
       "Paramount Pictures                        975\n",
       "Metro-Goldwyn-Mayer (MGM)                 807\n",
       "Twentieth Century Fox Film Corporation    764\n",
       "Universal Pictures                        739\n",
       "Warner Bros.                              735\n",
       "Columbia Pictures                         419\n",
       "Columbia Pictures Corporation             394\n",
       "RKO Radio Pictures                        288\n",
       "United Artists                            269\n",
       "New Line Cinema                           255\n",
       "Walt Disney Pictures                      248\n",
       "Mosfilm                                   178\n",
       "Miramax Films                             171\n",
       "TriStar Pictures                          158\n",
       "Toho Company                              127\n",
       "Gaumont                                   121\n",
       "Orion Pictures                            107\n",
       "BBC Films                                 105\n",
       "Touchstone Pictures                        98\n",
       "France 2 Cinéma                            98\n",
       "Fox Searchlight Pictures                   89\n",
       "Walt Disney Productions                    89\n",
       "Village Roadshow Pictures                  88\n",
       "Universal International Pictures (UI)      81\n",
       "DreamWorks SKG                             76\n",
       "Hammer Film Productions                    74\n",
       "Lions Gate Films                           72\n",
       "Channel Four Films                         72\n",
       "New World Pictures                         67\n",
       "British Broadcasting Corporation (BBC)     67\n",
       "The Rank Organisation                      67\n",
       "First National Pictures                    64\n",
       "Nikkatsu                                   63\n",
       "Lionsgate                                  62\n",
       "Regency Enterprises                        62\n",
       "Canal+                                     62\n",
       "StudioCanal                                61\n",
       "American International Pictures (AIP)      61\n",
       "Shaw Brothers                              60\n",
       "Shôchiku Eiga                              60\n",
       "Nordisk Film                               59\n",
       "Monogram Pictures                          59\n",
       "CJ Entertainment                           58\n",
       "TLA Releasing                              58\n",
       "Imagine Entertainment                      57\n",
       "Summit Entertainment                       55\n",
       "Hollywood Pictures                         54\n",
       "Svensk Filmindustri (SF)                   53\n",
       "DC Comics                                  52\n",
       "Rai Cinema                                 51\n",
       "Name: production_company, dtype: int64"
      ]
     },
     "execution_count": 89,
     "metadata": {},
     "output_type": "execute_result"
    }
   ],
   "source": [
    "df.production_company.value_counts()[df.production_company.value_counts() >50]"
   ]
  },
  {
   "cell_type": "code",
   "execution_count": 90,
   "id": "70d92679",
   "metadata": {},
   "outputs": [
    {
     "data": {
      "text/plain": [
       "Paramount Pictures                        1146\n",
       "Metro-Goldwyn-Mayer (MGM)                  975\n",
       "Columbia Pictures                          971\n",
       "Warner Bros.                               939\n",
       "Twentieth Century Fox Film Corporation     853\n",
       "Universal Pictures                         820\n",
       "Walt Disney Pictures                       694\n",
       "RKO Radio Pictures                         288\n",
       "United Artists                             269\n",
       "New Line Cinema                            255\n",
       "Lions Gate Films                           189\n",
       "Mosfilm                                    178\n",
       "BBC Films                                  172\n",
       "Toho Company                               127\n",
       "Canal+                                     123\n",
       "Gaumont                                    121\n",
       "France 2 Cinéma                             98\n",
       "Hammer Film Productions                     74\n",
       "Channel Four Films                          72\n",
       "The Rank Organisation                       67\n",
       "Nikkatsu                                    63\n",
       "Shaw Brothers                               60\n",
       "Shôchiku Eiga                               60\n",
       "Monogram Pictures                           59\n",
       "Nordisk Film                                59\n",
       "CJ Entertainment                            58\n",
       "TLA Releasing                               58\n",
       "Imagine Entertainment                       57\n",
       "Svensk Filmindustri (SF)                    53\n",
       "Rai Cinema                                  51\n",
       "Name: production_company, dtype: int64"
      ]
     },
     "execution_count": 90,
     "metadata": {},
     "output_type": "execute_result"
    }
   ],
   "source": [
    "#Go back to this code\n",
    "\n",
    "df.loc[df.production_company == \"Lionsgate\", \"production_company\"] = \"Lions Gate Films\"\n",
    "df.loc[df.production_company == \"Summit Entertainment\", \"production_company\"] = \"Lions Gate Films\"\n",
    "df.loc[df.production_company == \"DC Comics\", \"production_company\"] = \"Warner Bros.\"\n",
    "df.loc[df.production_company == \"Columbia Pictures Corporation\", \"production_company\"] = \"Columbia Pictures\"\n",
    "df.loc[df.production_company == \"British Broadcasting Corporation (BBC)\", \"production_company\"] = \"BBC Films\"\n",
    "df.loc[df.production_company == \"Universal International Pictures (UI)\", \"production_company\"] = \"Universal Pictures\"\n",
    "df.loc[df.production_company == \"Walt Disney Productions\", \"production_company\"] = \"Walt Disney Pictures\"\n",
    "df.loc[df.production_company == \"Hollywood Pictures\", \"production_company\"] = \"Walt Disney Pictures\"\n",
    "df.loc[df.production_company == \"Fox Searchlight Pictures\", \"production_company\"] = \"Twentieth Century Fox Film Corporation\"\n",
    "df.loc[df.production_company == \"StudioCanal\", \"production_company\"] = \"Canal+\"\n",
    "df.loc[df.production_company == \"DreamWorks SKG\", \"production_company\"] = \"Walt Disney Pictures\"\n",
    "df.loc[df.production_company == \"Touchstone Pictures\", \"production_company\"] = \"Walt Disney Pictures\"\n",
    "df.loc[df.production_company == \"Miramax Films\", \"production_company\"] = \"Paramount Pictures\"\n",
    "df.loc[df.production_company == \"TriStar Pictures\", \"production_company\"] = \"Columbia Pictures\"\n",
    "df.loc[df.production_company == \"Orion Pictures\", \"production_company\"] = \"Metro-Goldwyn-Mayer (MGM)\"\n",
    "df.loc[df.production_company == \"Village Roadshow Pictures\", \"production_company\"] = \"Warner Bros.\"\n",
    "df.loc[df.production_company == \"New World Pictures\", \"production_company\"] = \"Walt Disney Pictures\"\n",
    "df.loc[df.production_company == \"Regency Enterprises\", \"production_company\"] = \"Walt Disney Pictures\"\n",
    "df.loc[df.production_company == \"First National Pictures\", \"production_company\"] = \"Warner Bros.\"\n",
    "df.loc[df.production_company == \"American International Pictures (AIP)\", \"production_company\"] = \"Metro-Goldwyn-Mayer (MGM)\"\n",
    "\n",
    "df.production_company.value_counts()[df.production_company.value_counts() >50]"
   ]
  },
  {
   "cell_type": "code",
   "execution_count": 91,
   "id": "8c864d54",
   "metadata": {},
   "outputs": [
    {
     "data": {
      "text/plain": [
       "Other                                     24271\n",
       "Paramount Pictures                         1146\n",
       "Metro-Goldwyn-Mayer (MGM)                   975\n",
       "Columbia Pictures                           971\n",
       "Warner Bros.                                939\n",
       "Twentieth Century Fox Film Corporation      853\n",
       "Universal Pictures                          820\n",
       "Walt Disney Pictures                        694\n",
       "RKO Radio Pictures                          288\n",
       "United Artists                              269\n",
       "New Line Cinema                             255\n",
       "Lions Gate Films                            189\n",
       "Mosfilm                                     178\n",
       "BBC Films                                   172\n",
       "Name: production_company, dtype: int64"
      ]
     },
     "execution_count": 91,
     "metadata": {},
     "output_type": "execute_result"
    }
   ],
   "source": [
    "#Place TV Movie, Music and Foreign in an other category\n",
    "company_small = [\"Paramount Pictures\", \"Metro-Goldwyn-Mayer (MGM)\", \"Columbia Pictures\", \"Warner Bros.\", \"Twentieth Century Fox Film Corporation\", \"Universal Pictures\", \"Walt Disney Pictures\", \"RKO Radio Pictures\", \"United Artists\", \"New Line Cinema\", \"Lions Gate Films\", \"Mosfilm\", \"BBC Films\"]\n",
    "df.loc[~df.production_company.isin(company_small), \"production_company\"] = \"Other\"\n",
    "\n",
    "df.production_company.value_counts()"
   ]
  },
  {
   "cell_type": "code",
   "execution_count": null,
   "id": "890392ed",
   "metadata": {},
   "outputs": [],
   "source": []
  },
  {
   "cell_type": "markdown",
   "id": "f75d5b52",
   "metadata": {},
   "source": [
    "# Production_country"
   ]
  },
  {
   "cell_type": "code",
   "execution_count": 92,
   "id": "92e126dd",
   "metadata": {},
   "outputs": [
    {
     "data": {
      "text/plain": [
       "United States of America    15644\n",
       "United Kingdom               2585\n",
       "France                       2243\n",
       "Canada                       1210\n",
       "Japan                        1196\n",
       "                            ...  \n",
       "Syrian Arab Republic            1\n",
       "Namibia                         1\n",
       "Botswana                        1\n",
       "Tanzania                        1\n",
       "Azerbaijan                      1\n",
       "Name: production_country, Length: 139, dtype: int64"
      ]
     },
     "execution_count": 92,
     "metadata": {},
     "output_type": "execute_result"
    }
   ],
   "source": [
    "df.production_country.value_counts()"
   ]
  },
  {
   "cell_type": "code",
   "execution_count": 93,
   "id": "cee28172",
   "metadata": {},
   "outputs": [
    {
     "data": {
      "text/plain": [
       "United States of America    15644\n",
       "United Kingdom               2585\n",
       "France                       2243\n",
       "Canada                       1210\n",
       "Japan                        1196\n",
       "Germany                      1118\n",
       "Italy                        1068\n",
       "Russia                        658\n",
       "India                         542\n",
       "Spain                         456\n",
       "Australia                     419\n",
       "Hong Kong                     366\n",
       "South Korea                   326\n",
       "Sweden                        324\n",
       "Denmark                       252\n",
       "Belgium                       243\n",
       "Finland                       224\n",
       "China                         223\n",
       "Brazil                        202\n",
       "Mexico                        190\n",
       "Poland                        175\n",
       "Netherlands                   161\n",
       "Argentina                     135\n",
       "Czech Republic                129\n",
       "Ireland                       120\n",
       "Austria                       104\n",
       "Norway                         92\n",
       "Greece                         83\n",
       "Hungary                        80\n",
       "Thailand                       76\n",
       "New Zealand                    76\n",
       "Turkey                         73\n",
       "Romania                        72\n",
       "Switzerland                    71\n",
       "Israel                         70\n",
       "Serbia                         64\n",
       "Iran                           64\n",
       "Portugal                       59\n",
       "Philippines                    58\n",
       "South Africa                   55\n",
       "Name: production_country, dtype: int64"
      ]
     },
     "execution_count": 93,
     "metadata": {},
     "output_type": "execute_result"
    }
   ],
   "source": [
    "#Keep production companies with over 1000 values\n",
    "\n",
    "df.production_country.value_counts()[df.production_country.value_counts() > 50]"
   ]
  },
  {
   "cell_type": "code",
   "execution_count": 94,
   "id": "c54df7a1",
   "metadata": {},
   "outputs": [
    {
     "data": {
      "text/plain": [
       "United States of America    15644\n",
       "Other                        6956\n",
       "United Kingdom               2585\n",
       "France                       2243\n",
       "Canada                       1210\n",
       "Japan                        1196\n",
       "Germany                      1118\n",
       "Italy                        1068\n",
       "Name: production_country, dtype: int64"
      ]
     },
     "execution_count": 94,
     "metadata": {},
     "output_type": "execute_result"
    }
   ],
   "source": [
    "#Figure out how to do a less than grouping to move to other\n",
    "#combining less than 1000 ranking \n",
    "#combining leftovers into category 'other'\n",
    "\n",
    "cont_small = [\"United States of America\", \"United Kingdom\", \"France\", \"Canada\", \"Japan\", \"Germany\", \"Italy\"]\n",
    "df.loc[~df.production_country.isin(cont_small), \"production_country\"] = \"Other\"\n",
    "\n",
    "df.production_country.value_counts().sort_values(ascending=False)"
   ]
  },
  {
   "cell_type": "code",
   "execution_count": null,
   "id": "db037170",
   "metadata": {},
   "outputs": [],
   "source": []
  },
  {
   "cell_type": "markdown",
   "id": "9a2fb65d",
   "metadata": {},
   "source": [
    "# Spoken_language"
   ]
  },
  {
   "cell_type": "code",
   "execution_count": 95,
   "id": "70b8e4f0",
   "metadata": {},
   "outputs": [
    {
     "data": {
      "text/plain": [
       "English        21269\n",
       "Français        1884\n",
       "日本語             1080\n",
       "Deutsch          950\n",
       "Italiano         943\n",
       "Español          793\n",
       "Pусский          713\n",
       "हिन्दी           317\n",
       "广州话 / 廣州話        316\n",
       "한국어/조선말          300\n",
       "普通话              271\n",
       "svenska          259\n",
       "Português        249\n",
       "No Language      230\n",
       "Dansk            226\n",
       "العربية          213\n",
       "Český            206\n",
       "suomi            200\n",
       "Nederlands       183\n",
       "Polski           164\n",
       "                 162\n",
       "Name: spoken_language, dtype: int64"
      ]
     },
     "execution_count": 95,
     "metadata": {},
     "output_type": "execute_result"
    }
   ],
   "source": [
    "#Keep languages with over 100 values\n",
    "\n",
    "df.spoken_language.value_counts()[df.spoken_language.value_counts() >100]"
   ]
  },
  {
   "cell_type": "code",
   "execution_count": 96,
   "id": "e312fd69",
   "metadata": {},
   "outputs": [
    {
     "data": {
      "text/plain": [
       "English        21269\n",
       "Français        1884\n",
       "Japanese        1080\n",
       "Deutsch          950\n",
       "Italiano         943\n",
       "Español          793\n",
       "Russian          713\n",
       "Chinese          587\n",
       "Hindi            317\n",
       "한국어/조선말          300\n",
       "svenska          259\n",
       "Português        249\n",
       "No Language      230\n",
       "Dansk            226\n",
       "العربية          213\n",
       "Český            206\n",
       "suomi            200\n",
       "Nederlands       183\n",
       "Polski           164\n",
       "                 162\n",
       "Name: spoken_language, dtype: int64"
      ]
     },
     "execution_count": 96,
     "metadata": {},
     "output_type": "execute_result"
    }
   ],
   "source": [
    "#Go back to this code\n",
    "\n",
    "df.loc[df.spoken_language == \"日本語\", \"spoken_language\"] = \"Japanese\"\n",
    "df.loc[df.spoken_language == \"广州话 / 廣州話\", \"spoken_language\"] = \"Chinese\"\n",
    "df.loc[df.spoken_language == \"普通话\", \"spoken_language\"] = \"Chinese\"\n",
    "df.loc[df.spoken_language == \"हिन्दी\", \"spoken_language\"] = \"Hindi\"\n",
    "df.loc[df.spoken_language == \"Pусский\", \"spoken_language\"] = \"Russian\"\n",
    "\n",
    "df.spoken_language.value_counts()[df.spoken_language.value_counts() >100]"
   ]
  },
  {
   "cell_type": "code",
   "execution_count": 97,
   "id": "0a66c655",
   "metadata": {},
   "outputs": [
    {
     "data": {
      "text/plain": [
       "English     21269\n",
       "Other        3801\n",
       "Français     1884\n",
       "Japanese     1080\n",
       "Deutsch       950\n",
       "Italiano      943\n",
       "Español       793\n",
       "Russian       713\n",
       "Chinese       587\n",
       "Name: spoken_language, dtype: int64"
      ]
     },
     "execution_count": 97,
     "metadata": {},
     "output_type": "execute_result"
    }
   ],
   "source": [
    "#combining leftovers into category 'other'\n",
    "\n",
    "lang_small = [\"English\", \"Français\", \"Japanese\", \"Deutsch\", \"Italiano\", \"Español\", \"Russian\", \"Chinese\"]\n",
    "df.loc[~df.spoken_language.isin(lang_small), \"spoken_language\"] = \"Other\"\n",
    "\n",
    "df.spoken_language.value_counts()[df.spoken_language.value_counts() >100].sort_values(ascending=False)\n",
    "\n",
    "\n",
    "# df.loc[~df.spoken_language.isin(df.spoken_language.value_counts() < 100), 'spoken_language'] = 'Other'"
   ]
  },
  {
   "cell_type": "code",
   "execution_count": 98,
   "id": "5d017803",
   "metadata": {},
   "outputs": [],
   "source": [
    "# Save copy to new df\n",
    "\n",
    "df1 = df.copy()"
   ]
  },
  {
   "cell_type": "code",
   "execution_count": 137,
   "id": "3d5c27ed",
   "metadata": {},
   "outputs": [],
   "source": [
    "#save new df to csv file\n",
    "#Use this csv in Tableau\n",
    "\n",
    "df1.to_csv(\"movies_final.csv\", index=False)"
   ]
  }
 ],
 "metadata": {
  "kernelspec": {
   "display_name": "Python 3 (ipykernel)",
   "language": "python",
   "name": "python3"
  },
  "language_info": {
   "codemirror_mode": {
    "name": "ipython",
    "version": 3
   },
   "file_extension": ".py",
   "mimetype": "text/x-python",
   "name": "python",
   "nbconvert_exporter": "python",
   "pygments_lexer": "ipython3",
   "version": "3.9.12"
  }
 },
 "nbformat": 4,
 "nbformat_minor": 5
}
