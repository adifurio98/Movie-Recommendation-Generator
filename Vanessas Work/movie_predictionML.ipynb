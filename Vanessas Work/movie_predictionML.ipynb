{
 "cells": [
  {
   "cell_type": "code",
   "execution_count": null,
   "id": "7b890ff2",
   "metadata": {},
   "outputs": [],
   "source": [
    "# Data Science Libs\n",
    "import matplotlib.pyplot as plt\n",
    "import numpy as np\n",
    "import pandas as pd\n",
    "import seaborn as sns\n",
    "\n",
    "# model preprocessing & metrics\n",
    "from sklearn.model_selection import train_test_split\n",
    "from sklearn.preprocessing import StandardScaler, MinMaxScaler\n",
    "from sklearn.metrics import confusion_matrix, classification_report, roc_curve, auc\n",
    "\n",
    "# algorithm\n",
    "from sklearn.linear_model import LogisticRegression\n",
    "from sklearn.neighbors import KNeighborsClassifier\n",
    "from sklearn.tree import DecisionTreeClassifier\n",
    "from sklearn.ensemble import RandomForestClassifier\n",
    "from sklearn.ensemble import AdaBoostClassifier\n",
    "from xgboost import XGBClassifier"
   ]
  },
  {
   "cell_type": "code",
   "execution_count": null,
   "id": "de471c52",
   "metadata": {},
   "outputs": [],
   "source": [
    "# df = pd.read_csv(\"\")\n",
    "# df.head()"
   ]
  },
  {
   "cell_type": "code",
   "execution_count": null,
   "id": "1cee7baa",
   "metadata": {},
   "outputs": [],
   "source": [
    "# df.info()"
   ]
  },
  {
   "cell_type": "code",
   "execution_count": null,
   "id": "c1edd177",
   "metadata": {},
   "outputs": [],
   "source": [
    "# df.genre.value_counts.describe()"
   ]
  },
  {
   "cell_type": "code",
   "execution_count": null,
   "id": "9376ef0d",
   "metadata": {},
   "outputs": [],
   "source": [
    "# df = pd.get_dummies(df.loc[:, ['']])\n",
    "# df.drop([''], axis=1, inplace=True)\n",
    "# df.head()"
   ]
  },
  {
   "cell_type": "code",
   "execution_count": null,
   "id": "ebcae0bd",
   "metadata": {},
   "outputs": [],
   "source": [
    "# is_good = "
   ]
  },
  {
   "cell_type": "code",
   "execution_count": null,
   "id": "294f4b5d",
   "metadata": {},
   "outputs": [],
   "source": [
    "# X = df.drop(\"is_good\", axis=1).values\n",
    "# y = df.loc[:, [\"is_good\"]].values.ravel()\n",
    "\n",
    "# X_train, X_test, y_train, y_test = train_test_split(X, y, test_size=0.25, random_state=42, stratify=y) # use stratify for classification models\n",
    "# print(f\"{round(len(X_train)/len(X), 3)} : {round(len(X_test)/len(X), 3)}\")"
   ]
  },
  {
   "cell_type": "code",
   "execution_count": null,
   "id": "c9a68944",
   "metadata": {},
   "outputs": [],
   "source": [
    "# def evaluateModel(model, X_train, X_test, y_train, y_test):\n",
    "#     model.fit(X_train, y_train) # fit\n",
    "    \n",
    "#     train_preds = model.predict(X_train) # predict\n",
    "#     test_preds = model.predict(X_test)\n",
    "#     test_proba = model.predict_proba(X_test)\n",
    "    \n",
    "#     output_train = f\"\"\"\n",
    "#     METRICS FOR THE TRAINING SET:\n",
    "#     ----------------------------\n",
    "#     {confusion_matrix(y_train, train_preds)}\n",
    "\n",
    "#     {classification_report(y_train, train_preds)}\n",
    "#     \"\"\"\n",
    "#     print(output_train)\n",
    "\n",
    "#     #################################################\n",
    "\n",
    "#     output_test = f\"\"\"\n",
    "#     METRICS FOR THE TESTING SET:\n",
    "#     ----------------------------\n",
    "#     {confusion_matrix(y_test, test_preds)}\n",
    "\n",
    "#     {classification_report(y_test, test_preds)}\n",
    "#     \"\"\"\n",
    "#     print(output_test)\n",
    "#     print()\n",
    "    \n",
    "#     #################################################\n",
    "    \n",
    "#     fpr_knn, tpr_knn, thresholds_knn = roc_curve(y_test, test_proba[:,1])\n",
    "\n",
    "#     roc_auc_knn = auc(fpr_knn, tpr_knn)\n",
    "#     print(f\"AUC for the Model Test Set: {roc_auc_knn}\")\n",
    "\n",
    "#     # make plot\n",
    "#     plt.figure(figsize=(10,6))\n",
    "#     plt.plot(fpr_knn, tpr_knn, color='darkorange')\n",
    "#     plt.plot([0, 1], [0, 1], color='navy', linestyle='--')\n",
    "#     plt.xlim([0.0, 1.0])\n",
    "#     plt.ylim([0.0, 1.05])\n",
    "#     plt.xlabel('False Positive Rate')\n",
    "#     plt.ylabel('True Positive Rate')\n",
    "#     plt.title('ROC Curve')\n",
    "#     plt.show()\n",
    "    \n",
    "#     print(\"Brier Score:\")\n",
    "#     print(sum((y_test - test_proba[:,1])**2))"
   ]
  },
  {
   "cell_type": "code",
   "execution_count": null,
   "id": "b530646b",
   "metadata": {},
   "outputs": [],
   "source": [
    "# lr = LogisticRegression(max_iter=10000)\n",
    "\n",
    "# evaluateModel(lr, X_train, X_test, y_train, y_test)"
   ]
  },
  {
   "cell_type": "code",
   "execution_count": null,
   "id": "fa48deca",
   "metadata": {},
   "outputs": [],
   "source": [
    "# knn_model = KNeighborsClassifier(n_neighbors=17)\n",
    "\n",
    "# evaluateModel(knn_model, X_train, X_test, y_train, y_test)"
   ]
  },
  {
   "cell_type": "code",
   "execution_count": null,
   "id": "4651c5ad",
   "metadata": {},
   "outputs": [],
   "source": [
    "# dt = DecisionTreeClassifier()\n",
    "\n",
    "# evaluateModel(dt, X_train, X_test, y_train, y_test)"
   ]
  },
  {
   "cell_type": "code",
   "execution_count": null,
   "id": "cb744268",
   "metadata": {},
   "outputs": [],
   "source": [
    "# rf = RandomForestClassifier(random_state=42, n_estimators=50)\n",
    "\n",
    "# evaluateModel(rf, X_train, X_test, y_train, y_test)"
   ]
  },
  {
   "cell_type": "code",
   "execution_count": null,
   "id": "0b77ac78",
   "metadata": {},
   "outputs": [],
   "source": [
    "# ada = AdaBoostClassifier(random_state=42)\n",
    "\n",
    "# evaluateModel(ada, X_train, X_test, y_train, y_test)"
   ]
  },
  {
   "cell_type": "code",
   "execution_count": null,
   "id": "5e97bf0e",
   "metadata": {},
   "outputs": [],
   "source": [
    "# xgb = XGBClassifier(random_state=42)\n",
    "\n",
    "# evaluateModel(xgb, X_train, X_test, y_train, y_test)"
   ]
  },
  {
   "cell_type": "code",
   "execution_count": null,
   "id": "d9022a37",
   "metadata": {},
   "outputs": [],
   "source": []
  }
 ],
 "metadata": {
  "kernelspec": {
   "display_name": "Python 3 (ipykernel)",
   "language": "python",
   "name": "python3"
  },
  "language_info": {
   "codemirror_mode": {
    "name": "ipython",
    "version": 3
   },
   "file_extension": ".py",
   "mimetype": "text/x-python",
   "name": "python",
   "nbconvert_exporter": "python",
   "pygments_lexer": "ipython3",
   "version": "3.9.13"
  }
 },
 "nbformat": 4,
 "nbformat_minor": 5
}
