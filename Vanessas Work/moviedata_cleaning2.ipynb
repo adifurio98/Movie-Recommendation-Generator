{
 "cells": [
  {
   "cell_type": "code",
   "execution_count": 1,
   "id": "d78f1e98",
   "metadata": {},
   "outputs": [],
   "source": [
    "#Import Data Science Libs\n",
    "import pandas as pd\n",
    "import matplotlib.pyplot as plt\n",
    "import numpy as np\n",
    "import seaborn as sns\n",
    "import ast"
   ]
  },
  {
   "cell_type": "code",
   "execution_count": 2,
   "id": "e2a62cf6",
   "metadata": {},
   "outputs": [
    {
     "data": {
      "text/html": [
       "<div>\n",
       "<style scoped>\n",
       "    .dataframe tbody tr th:only-of-type {\n",
       "        vertical-align: middle;\n",
       "    }\n",
       "\n",
       "    .dataframe tbody tr th {\n",
       "        vertical-align: top;\n",
       "    }\n",
       "\n",
       "    .dataframe thead th {\n",
       "        text-align: right;\n",
       "    }\n",
       "</style>\n",
       "<table border=\"1\" class=\"dataframe\">\n",
       "  <thead>\n",
       "    <tr style=\"text-align: right;\">\n",
       "      <th></th>\n",
       "      <th>belongs_to_collection</th>\n",
       "      <th>budget</th>\n",
       "      <th>genres</th>\n",
       "      <th>original_language</th>\n",
       "      <th>original_title</th>\n",
       "      <th>popularity</th>\n",
       "      <th>production_companies</th>\n",
       "      <th>production_countries</th>\n",
       "      <th>release_date</th>\n",
       "      <th>revenue</th>\n",
       "      <th>runtime</th>\n",
       "      <th>spoken_languages</th>\n",
       "      <th>title</th>\n",
       "      <th>vote_average</th>\n",
       "      <th>vote_count</th>\n",
       "    </tr>\n",
       "  </thead>\n",
       "  <tbody>\n",
       "    <tr>\n",
       "      <th>0</th>\n",
       "      <td>{'id': 10194, 'name': 'Toy Story Collection', ...</td>\n",
       "      <td>30000000</td>\n",
       "      <td>[{'id': 16, 'name': 'Animation'}, {'id': 35, '...</td>\n",
       "      <td>en</td>\n",
       "      <td>Toy Story</td>\n",
       "      <td>21.946943</td>\n",
       "      <td>[{'name': 'Pixar Animation Studios', 'id': 3}]</td>\n",
       "      <td>[{'iso_3166_1': 'US', 'name': 'United States o...</td>\n",
       "      <td>10/30/1995</td>\n",
       "      <td>373554033.0</td>\n",
       "      <td>81.0</td>\n",
       "      <td>[{'iso_639_1': 'en', 'name': 'English'}]</td>\n",
       "      <td>Toy Story</td>\n",
       "      <td>7.7</td>\n",
       "      <td>5415.0</td>\n",
       "    </tr>\n",
       "    <tr>\n",
       "      <th>1</th>\n",
       "      <td>NaN</td>\n",
       "      <td>65000000</td>\n",
       "      <td>[{'id': 12, 'name': 'Adventure'}, {'id': 14, '...</td>\n",
       "      <td>en</td>\n",
       "      <td>Jumanji</td>\n",
       "      <td>17.015539</td>\n",
       "      <td>[{'name': 'TriStar Pictures', 'id': 559}, {'na...</td>\n",
       "      <td>[{'iso_3166_1': 'US', 'name': 'United States o...</td>\n",
       "      <td>12/15/1995</td>\n",
       "      <td>262797249.0</td>\n",
       "      <td>104.0</td>\n",
       "      <td>[{'iso_639_1': 'en', 'name': 'English'}, {'iso...</td>\n",
       "      <td>Jumanji</td>\n",
       "      <td>6.9</td>\n",
       "      <td>2413.0</td>\n",
       "    </tr>\n",
       "    <tr>\n",
       "      <th>2</th>\n",
       "      <td>{'id': 119050, 'name': 'Grumpy Old Men Collect...</td>\n",
       "      <td>0</td>\n",
       "      <td>[{'id': 10749, 'name': 'Romance'}, {'id': 35, ...</td>\n",
       "      <td>en</td>\n",
       "      <td>Grumpier Old Men</td>\n",
       "      <td>11.7129</td>\n",
       "      <td>[{'name': 'Warner Bros.', 'id': 6194}, {'name'...</td>\n",
       "      <td>[{'iso_3166_1': 'US', 'name': 'United States o...</td>\n",
       "      <td>12/22/1995</td>\n",
       "      <td>0.0</td>\n",
       "      <td>101.0</td>\n",
       "      <td>[{'iso_639_1': 'en', 'name': 'English'}]</td>\n",
       "      <td>Grumpier Old Men</td>\n",
       "      <td>6.5</td>\n",
       "      <td>92.0</td>\n",
       "    </tr>\n",
       "    <tr>\n",
       "      <th>3</th>\n",
       "      <td>NaN</td>\n",
       "      <td>16000000</td>\n",
       "      <td>[{'id': 35, 'name': 'Comedy'}, {'id': 18, 'nam...</td>\n",
       "      <td>en</td>\n",
       "      <td>Waiting to Exhale</td>\n",
       "      <td>3.859495</td>\n",
       "      <td>[{'name': 'Twentieth Century Fox Film Corporat...</td>\n",
       "      <td>[{'iso_3166_1': 'US', 'name': 'United States o...</td>\n",
       "      <td>12/22/1995</td>\n",
       "      <td>81452156.0</td>\n",
       "      <td>127.0</td>\n",
       "      <td>[{'iso_639_1': 'en', 'name': 'English'}]</td>\n",
       "      <td>Waiting to Exhale</td>\n",
       "      <td>6.1</td>\n",
       "      <td>34.0</td>\n",
       "    </tr>\n",
       "    <tr>\n",
       "      <th>4</th>\n",
       "      <td>{'id': 96871, 'name': 'Father of the Bride Col...</td>\n",
       "      <td>0</td>\n",
       "      <td>[{'id': 35, 'name': 'Comedy'}]</td>\n",
       "      <td>en</td>\n",
       "      <td>Father of the Bride Part II</td>\n",
       "      <td>8.387519</td>\n",
       "      <td>[{'name': 'Sandollar Productions', 'id': 5842}...</td>\n",
       "      <td>[{'iso_3166_1': 'US', 'name': 'United States o...</td>\n",
       "      <td>2/10/1995</td>\n",
       "      <td>76578911.0</td>\n",
       "      <td>106.0</td>\n",
       "      <td>[{'iso_639_1': 'en', 'name': 'English'}]</td>\n",
       "      <td>Father of the Bride Part II</td>\n",
       "      <td>5.7</td>\n",
       "      <td>173.0</td>\n",
       "    </tr>\n",
       "  </tbody>\n",
       "</table>\n",
       "</div>"
      ],
      "text/plain": [
       "                               belongs_to_collection    budget  \\\n",
       "0  {'id': 10194, 'name': 'Toy Story Collection', ...  30000000   \n",
       "1                                                NaN  65000000   \n",
       "2  {'id': 119050, 'name': 'Grumpy Old Men Collect...         0   \n",
       "3                                                NaN  16000000   \n",
       "4  {'id': 96871, 'name': 'Father of the Bride Col...         0   \n",
       "\n",
       "                                              genres original_language  \\\n",
       "0  [{'id': 16, 'name': 'Animation'}, {'id': 35, '...                en   \n",
       "1  [{'id': 12, 'name': 'Adventure'}, {'id': 14, '...                en   \n",
       "2  [{'id': 10749, 'name': 'Romance'}, {'id': 35, ...                en   \n",
       "3  [{'id': 35, 'name': 'Comedy'}, {'id': 18, 'nam...                en   \n",
       "4                     [{'id': 35, 'name': 'Comedy'}]                en   \n",
       "\n",
       "                original_title popularity  \\\n",
       "0                    Toy Story  21.946943   \n",
       "1                      Jumanji  17.015539   \n",
       "2             Grumpier Old Men    11.7129   \n",
       "3            Waiting to Exhale   3.859495   \n",
       "4  Father of the Bride Part II   8.387519   \n",
       "\n",
       "                                production_companies  \\\n",
       "0     [{'name': 'Pixar Animation Studios', 'id': 3}]   \n",
       "1  [{'name': 'TriStar Pictures', 'id': 559}, {'na...   \n",
       "2  [{'name': 'Warner Bros.', 'id': 6194}, {'name'...   \n",
       "3  [{'name': 'Twentieth Century Fox Film Corporat...   \n",
       "4  [{'name': 'Sandollar Productions', 'id': 5842}...   \n",
       "\n",
       "                                production_countries release_date  \\\n",
       "0  [{'iso_3166_1': 'US', 'name': 'United States o...   10/30/1995   \n",
       "1  [{'iso_3166_1': 'US', 'name': 'United States o...   12/15/1995   \n",
       "2  [{'iso_3166_1': 'US', 'name': 'United States o...   12/22/1995   \n",
       "3  [{'iso_3166_1': 'US', 'name': 'United States o...   12/22/1995   \n",
       "4  [{'iso_3166_1': 'US', 'name': 'United States o...    2/10/1995   \n",
       "\n",
       "       revenue  runtime                                   spoken_languages  \\\n",
       "0  373554033.0     81.0           [{'iso_639_1': 'en', 'name': 'English'}]   \n",
       "1  262797249.0    104.0  [{'iso_639_1': 'en', 'name': 'English'}, {'iso...   \n",
       "2          0.0    101.0           [{'iso_639_1': 'en', 'name': 'English'}]   \n",
       "3   81452156.0    127.0           [{'iso_639_1': 'en', 'name': 'English'}]   \n",
       "4   76578911.0    106.0           [{'iso_639_1': 'en', 'name': 'English'}]   \n",
       "\n",
       "                         title  vote_average  vote_count  \n",
       "0                    Toy Story           7.7      5415.0  \n",
       "1                      Jumanji           6.9      2413.0  \n",
       "2             Grumpier Old Men           6.5        92.0  \n",
       "3            Waiting to Exhale           6.1        34.0  \n",
       "4  Father of the Bride Part II           5.7       173.0  "
      ]
     },
     "execution_count": 2,
     "metadata": {},
     "output_type": "execute_result"
    }
   ],
   "source": [
    "# Import the data - Movies Metadata\n",
    "df = pd.read_csv(\"Movie_meta_cleaned.csv\")\n",
    "df.head()"
   ]
  },
  {
   "cell_type": "code",
   "execution_count": 3,
   "id": "c5b03285",
   "metadata": {
    "scrolled": true
   },
   "outputs": [
    {
     "name": "stdout",
     "output_type": "stream",
     "text": [
      "<class 'pandas.core.frame.DataFrame'>\n",
      "RangeIndex: 45466 entries, 0 to 45465\n",
      "Data columns (total 15 columns):\n",
      " #   Column                 Non-Null Count  Dtype  \n",
      "---  ------                 --------------  -----  \n",
      " 0   belongs_to_collection  4494 non-null   object \n",
      " 1   budget                 45466 non-null  object \n",
      " 2   genres                 45466 non-null  object \n",
      " 3   original_language      45455 non-null  object \n",
      " 4   original_title         45466 non-null  object \n",
      " 5   popularity             45461 non-null  object \n",
      " 6   production_companies   45463 non-null  object \n",
      " 7   production_countries   45463 non-null  object \n",
      " 8   release_date           45379 non-null  object \n",
      " 9   revenue                45460 non-null  float64\n",
      " 10  runtime                45203 non-null  float64\n",
      " 11  spoken_languages       45460 non-null  object \n",
      " 12  title                  45460 non-null  object \n",
      " 13  vote_average           45460 non-null  float64\n",
      " 14  vote_count             45460 non-null  float64\n",
      "dtypes: float64(4), object(11)\n",
      "memory usage: 5.2+ MB\n"
     ]
    }
   ],
   "source": [
    "df.info()"
   ]
  },
  {
   "cell_type": "code",
   "execution_count": 4,
   "id": "7bb11802",
   "metadata": {
    "scrolled": false
   },
   "outputs": [
    {
     "data": {
      "text/plain": [
       "[{'id': 18, 'name': 'Drama'}]                                                                                                         5000\n",
       "[{'id': 35, 'name': 'Comedy'}]                                                                                                        3621\n",
       "[{'id': 99, 'name': 'Documentary'}]                                                                                                   2723\n",
       "[]                                                                                                                                    2442\n",
       "[{'id': 18, 'name': 'Drama'}, {'id': 10749, 'name': 'Romance'}]                                                                       1301\n",
       "                                                                                                                                      ... \n",
       "[{'id': 28, 'name': 'Action'}, {'id': 18, 'name': 'Drama'}, {'id': 35, 'name': 'Comedy'}, {'id': 99, 'name': 'Documentary'}]             1\n",
       "[{'id': 10752, 'name': 'War'}, {'id': 18, 'name': 'Drama'}, {'id': 36, 'name': 'History'}, {'id': 53, 'name': 'Thriller'}]               1\n",
       "[{'id': 27, 'name': 'Horror'}, {'id': 18, 'name': 'Drama'}, {'id': 36, 'name': 'History'}, {'id': 53, 'name': 'Thriller'}]               1\n",
       "[{'id': 35, 'name': 'Comedy'}, {'id': 80, 'name': 'Crime'}, {'id': 28, 'name': 'Action'}, {'id': 18, 'name': 'Drama'}]                   1\n",
       "[{'id': 10751, 'name': 'Family'}, {'id': 16, 'name': 'Animation'}, {'id': 10749, 'name': 'Romance'}, {'id': 35, 'name': 'Comedy'}]       1\n",
       "Name: genres, Length: 4069, dtype: int64"
      ]
     },
     "execution_count": 4,
     "metadata": {},
     "output_type": "execute_result"
    }
   ],
   "source": [
    "df.genres.value_counts()"
   ]
  },
  {
   "cell_type": "code",
   "execution_count": 5,
   "id": "a50c157d",
   "metadata": {},
   "outputs": [],
   "source": [
    "def parse_column(x):\n",
    "    try:\n",
    "        name = ast.literal_eval(x)[0]['name']\n",
    "    except: \n",
    "        name = None\n",
    "    \n",
    "    return(name)"
   ]
  },
  {
   "cell_type": "code",
   "execution_count": 6,
   "id": "88607622",
   "metadata": {},
   "outputs": [
    {
     "data": {
      "text/html": [
       "<div>\n",
       "<style scoped>\n",
       "    .dataframe tbody tr th:only-of-type {\n",
       "        vertical-align: middle;\n",
       "    }\n",
       "\n",
       "    .dataframe tbody tr th {\n",
       "        vertical-align: top;\n",
       "    }\n",
       "\n",
       "    .dataframe thead th {\n",
       "        text-align: right;\n",
       "    }\n",
       "</style>\n",
       "<table border=\"1\" class=\"dataframe\">\n",
       "  <thead>\n",
       "    <tr style=\"text-align: right;\">\n",
       "      <th></th>\n",
       "      <th>belongs_to_collection</th>\n",
       "      <th>budget</th>\n",
       "      <th>genres</th>\n",
       "      <th>original_language</th>\n",
       "      <th>original_title</th>\n",
       "      <th>popularity</th>\n",
       "      <th>production_companies</th>\n",
       "      <th>production_countries</th>\n",
       "      <th>release_date</th>\n",
       "      <th>revenue</th>\n",
       "      <th>runtime</th>\n",
       "      <th>spoken_languages</th>\n",
       "      <th>title</th>\n",
       "      <th>vote_average</th>\n",
       "      <th>vote_count</th>\n",
       "      <th>genre</th>\n",
       "      <th>production_company</th>\n",
       "      <th>production_country</th>\n",
       "      <th>spoken_language</th>\n",
       "    </tr>\n",
       "  </thead>\n",
       "  <tbody>\n",
       "    <tr>\n",
       "      <th>0</th>\n",
       "      <td>{'id': 10194, 'name': 'Toy Story Collection', ...</td>\n",
       "      <td>30000000</td>\n",
       "      <td>[{'id': 16, 'name': 'Animation'}, {'id': 35, '...</td>\n",
       "      <td>en</td>\n",
       "      <td>Toy Story</td>\n",
       "      <td>21.946943</td>\n",
       "      <td>[{'name': 'Pixar Animation Studios', 'id': 3}]</td>\n",
       "      <td>[{'iso_3166_1': 'US', 'name': 'United States o...</td>\n",
       "      <td>10/30/1995</td>\n",
       "      <td>373554033.0</td>\n",
       "      <td>81.0</td>\n",
       "      <td>[{'iso_639_1': 'en', 'name': 'English'}]</td>\n",
       "      <td>Toy Story</td>\n",
       "      <td>7.7</td>\n",
       "      <td>5415.0</td>\n",
       "      <td>Animation</td>\n",
       "      <td>Pixar Animation Studios</td>\n",
       "      <td>United States of America</td>\n",
       "      <td>English</td>\n",
       "    </tr>\n",
       "    <tr>\n",
       "      <th>1</th>\n",
       "      <td>NaN</td>\n",
       "      <td>65000000</td>\n",
       "      <td>[{'id': 12, 'name': 'Adventure'}, {'id': 14, '...</td>\n",
       "      <td>en</td>\n",
       "      <td>Jumanji</td>\n",
       "      <td>17.015539</td>\n",
       "      <td>[{'name': 'TriStar Pictures', 'id': 559}, {'na...</td>\n",
       "      <td>[{'iso_3166_1': 'US', 'name': 'United States o...</td>\n",
       "      <td>12/15/1995</td>\n",
       "      <td>262797249.0</td>\n",
       "      <td>104.0</td>\n",
       "      <td>[{'iso_639_1': 'en', 'name': 'English'}, {'iso...</td>\n",
       "      <td>Jumanji</td>\n",
       "      <td>6.9</td>\n",
       "      <td>2413.0</td>\n",
       "      <td>Adventure</td>\n",
       "      <td>TriStar Pictures</td>\n",
       "      <td>United States of America</td>\n",
       "      <td>English</td>\n",
       "    </tr>\n",
       "    <tr>\n",
       "      <th>2</th>\n",
       "      <td>{'id': 119050, 'name': 'Grumpy Old Men Collect...</td>\n",
       "      <td>0</td>\n",
       "      <td>[{'id': 10749, 'name': 'Romance'}, {'id': 35, ...</td>\n",
       "      <td>en</td>\n",
       "      <td>Grumpier Old Men</td>\n",
       "      <td>11.7129</td>\n",
       "      <td>[{'name': 'Warner Bros.', 'id': 6194}, {'name'...</td>\n",
       "      <td>[{'iso_3166_1': 'US', 'name': 'United States o...</td>\n",
       "      <td>12/22/1995</td>\n",
       "      <td>0.0</td>\n",
       "      <td>101.0</td>\n",
       "      <td>[{'iso_639_1': 'en', 'name': 'English'}]</td>\n",
       "      <td>Grumpier Old Men</td>\n",
       "      <td>6.5</td>\n",
       "      <td>92.0</td>\n",
       "      <td>Romance</td>\n",
       "      <td>Warner Bros.</td>\n",
       "      <td>United States of America</td>\n",
       "      <td>English</td>\n",
       "    </tr>\n",
       "    <tr>\n",
       "      <th>3</th>\n",
       "      <td>NaN</td>\n",
       "      <td>16000000</td>\n",
       "      <td>[{'id': 35, 'name': 'Comedy'}, {'id': 18, 'nam...</td>\n",
       "      <td>en</td>\n",
       "      <td>Waiting to Exhale</td>\n",
       "      <td>3.859495</td>\n",
       "      <td>[{'name': 'Twentieth Century Fox Film Corporat...</td>\n",
       "      <td>[{'iso_3166_1': 'US', 'name': 'United States o...</td>\n",
       "      <td>12/22/1995</td>\n",
       "      <td>81452156.0</td>\n",
       "      <td>127.0</td>\n",
       "      <td>[{'iso_639_1': 'en', 'name': 'English'}]</td>\n",
       "      <td>Waiting to Exhale</td>\n",
       "      <td>6.1</td>\n",
       "      <td>34.0</td>\n",
       "      <td>Comedy</td>\n",
       "      <td>Twentieth Century Fox Film Corporation</td>\n",
       "      <td>United States of America</td>\n",
       "      <td>English</td>\n",
       "    </tr>\n",
       "    <tr>\n",
       "      <th>4</th>\n",
       "      <td>{'id': 96871, 'name': 'Father of the Bride Col...</td>\n",
       "      <td>0</td>\n",
       "      <td>[{'id': 35, 'name': 'Comedy'}]</td>\n",
       "      <td>en</td>\n",
       "      <td>Father of the Bride Part II</td>\n",
       "      <td>8.387519</td>\n",
       "      <td>[{'name': 'Sandollar Productions', 'id': 5842}...</td>\n",
       "      <td>[{'iso_3166_1': 'US', 'name': 'United States o...</td>\n",
       "      <td>2/10/1995</td>\n",
       "      <td>76578911.0</td>\n",
       "      <td>106.0</td>\n",
       "      <td>[{'iso_639_1': 'en', 'name': 'English'}]</td>\n",
       "      <td>Father of the Bride Part II</td>\n",
       "      <td>5.7</td>\n",
       "      <td>173.0</td>\n",
       "      <td>Comedy</td>\n",
       "      <td>Sandollar Productions</td>\n",
       "      <td>United States of America</td>\n",
       "      <td>English</td>\n",
       "    </tr>\n",
       "  </tbody>\n",
       "</table>\n",
       "</div>"
      ],
      "text/plain": [
       "                               belongs_to_collection    budget  \\\n",
       "0  {'id': 10194, 'name': 'Toy Story Collection', ...  30000000   \n",
       "1                                                NaN  65000000   \n",
       "2  {'id': 119050, 'name': 'Grumpy Old Men Collect...         0   \n",
       "3                                                NaN  16000000   \n",
       "4  {'id': 96871, 'name': 'Father of the Bride Col...         0   \n",
       "\n",
       "                                              genres original_language  \\\n",
       "0  [{'id': 16, 'name': 'Animation'}, {'id': 35, '...                en   \n",
       "1  [{'id': 12, 'name': 'Adventure'}, {'id': 14, '...                en   \n",
       "2  [{'id': 10749, 'name': 'Romance'}, {'id': 35, ...                en   \n",
       "3  [{'id': 35, 'name': 'Comedy'}, {'id': 18, 'nam...                en   \n",
       "4                     [{'id': 35, 'name': 'Comedy'}]                en   \n",
       "\n",
       "                original_title popularity  \\\n",
       "0                    Toy Story  21.946943   \n",
       "1                      Jumanji  17.015539   \n",
       "2             Grumpier Old Men    11.7129   \n",
       "3            Waiting to Exhale   3.859495   \n",
       "4  Father of the Bride Part II   8.387519   \n",
       "\n",
       "                                production_companies  \\\n",
       "0     [{'name': 'Pixar Animation Studios', 'id': 3}]   \n",
       "1  [{'name': 'TriStar Pictures', 'id': 559}, {'na...   \n",
       "2  [{'name': 'Warner Bros.', 'id': 6194}, {'name'...   \n",
       "3  [{'name': 'Twentieth Century Fox Film Corporat...   \n",
       "4  [{'name': 'Sandollar Productions', 'id': 5842}...   \n",
       "\n",
       "                                production_countries release_date  \\\n",
       "0  [{'iso_3166_1': 'US', 'name': 'United States o...   10/30/1995   \n",
       "1  [{'iso_3166_1': 'US', 'name': 'United States o...   12/15/1995   \n",
       "2  [{'iso_3166_1': 'US', 'name': 'United States o...   12/22/1995   \n",
       "3  [{'iso_3166_1': 'US', 'name': 'United States o...   12/22/1995   \n",
       "4  [{'iso_3166_1': 'US', 'name': 'United States o...    2/10/1995   \n",
       "\n",
       "       revenue  runtime                                   spoken_languages  \\\n",
       "0  373554033.0     81.0           [{'iso_639_1': 'en', 'name': 'English'}]   \n",
       "1  262797249.0    104.0  [{'iso_639_1': 'en', 'name': 'English'}, {'iso...   \n",
       "2          0.0    101.0           [{'iso_639_1': 'en', 'name': 'English'}]   \n",
       "3   81452156.0    127.0           [{'iso_639_1': 'en', 'name': 'English'}]   \n",
       "4   76578911.0    106.0           [{'iso_639_1': 'en', 'name': 'English'}]   \n",
       "\n",
       "                         title  vote_average  vote_count      genre  \\\n",
       "0                    Toy Story           7.7      5415.0  Animation   \n",
       "1                      Jumanji           6.9      2413.0  Adventure   \n",
       "2             Grumpier Old Men           6.5        92.0    Romance   \n",
       "3            Waiting to Exhale           6.1        34.0     Comedy   \n",
       "4  Father of the Bride Part II           5.7       173.0     Comedy   \n",
       "\n",
       "                       production_company        production_country  \\\n",
       "0                 Pixar Animation Studios  United States of America   \n",
       "1                        TriStar Pictures  United States of America   \n",
       "2                            Warner Bros.  United States of America   \n",
       "3  Twentieth Century Fox Film Corporation  United States of America   \n",
       "4                   Sandollar Productions  United States of America   \n",
       "\n",
       "  spoken_language  \n",
       "0         English  \n",
       "1         English  \n",
       "2         English  \n",
       "3         English  \n",
       "4         English  "
      ]
     },
     "execution_count": 6,
     "metadata": {},
     "output_type": "execute_result"
    }
   ],
   "source": [
    "#Create new columns for name in certain columns\n",
    "\n",
    "df['genre'] = df.genres.apply(lambda x: parse_column(x))\n",
    "df['production_company'] = df.production_companies.apply(lambda x: parse_column(x))\n",
    "df['production_country'] = df.production_countries.apply(lambda x: parse_column(x))\n",
    "df['spoken_language'] = df.spoken_languages.apply(lambda x: parse_column(x))\n",
    "\n",
    "df.head()"
   ]
  },
  {
   "cell_type": "code",
   "execution_count": 7,
   "id": "261290f2",
   "metadata": {},
   "outputs": [
    {
     "name": "stdout",
     "output_type": "stream",
     "text": [
      "<class 'pandas.core.frame.DataFrame'>\n",
      "RangeIndex: 45466 entries, 0 to 45465\n",
      "Data columns (total 19 columns):\n",
      " #   Column                 Non-Null Count  Dtype         \n",
      "---  ------                 --------------  -----         \n",
      " 0   belongs_to_collection  4494 non-null   object        \n",
      " 1   budget                 45463 non-null  float64       \n",
      " 2   genres                 45466 non-null  object        \n",
      " 3   original_language      45455 non-null  object        \n",
      " 4   original_title         45466 non-null  object        \n",
      " 5   popularity             45461 non-null  object        \n",
      " 6   production_companies   45463 non-null  object        \n",
      " 7   production_countries   45463 non-null  object        \n",
      " 8   release_date           45376 non-null  datetime64[ns]\n",
      " 9   revenue                45460 non-null  float64       \n",
      " 10  runtime                45203 non-null  float64       \n",
      " 11  spoken_languages       45460 non-null  object        \n",
      " 12  title                  45460 non-null  object        \n",
      " 13  vote_average           45460 non-null  float64       \n",
      " 14  vote_count             45460 non-null  float64       \n",
      " 15  genre                  43024 non-null  object        \n",
      " 16  production_company     33585 non-null  object        \n",
      " 17  production_country     39178 non-null  object        \n",
      " 18  spoken_language        41631 non-null  object        \n",
      "dtypes: datetime64[ns](1), float64(5), object(13)\n",
      "memory usage: 6.6+ MB\n"
     ]
    }
   ],
   "source": [
    "# Convert data to proper types.\n",
    "\n",
    "df['budget'] = pd.to_numeric(df.budget, errors='coerce')\n",
    "df['revenue'] = pd.to_numeric(df.revenue, errors='coerce')\n",
    "df['release_date'] = pd.to_datetime(df.release_date, errors='coerce')\n",
    "df.info()"
   ]
  },
  {
   "cell_type": "code",
   "execution_count": 8,
   "id": "edb999a6",
   "metadata": {},
   "outputs": [],
   "source": [
    "#Drop unnecessary columns\n",
    "df = df.drop(columns=['belongs_to_collection', 'genres', 'original_language', 'original_title', 'production_companies', 'production_countries', 'spoken_languages'])"
   ]
  },
  {
   "cell_type": "code",
   "execution_count": 10,
   "id": "8acbac6c",
   "metadata": {},
   "outputs": [
    {
     "name": "stdout",
     "output_type": "stream",
     "text": [
      "<class 'pandas.core.frame.DataFrame'>\n",
      "RangeIndex: 45466 entries, 0 to 45465\n",
      "Data columns (total 16 columns):\n",
      " #   Column              Non-Null Count  Dtype         \n",
      "---  ------              --------------  -----         \n",
      " 0   budget              45463 non-null  float64       \n",
      " 1   popularity          45461 non-null  object        \n",
      " 2   release_date        45376 non-null  datetime64[ns]\n",
      " 3   revenue             45460 non-null  float64       \n",
      " 4   runtime             45203 non-null  float64       \n",
      " 5   title               45460 non-null  object        \n",
      " 6   vote_average        45460 non-null  float64       \n",
      " 7   vote_count          45460 non-null  float64       \n",
      " 8   genre               43024 non-null  object        \n",
      " 9   production_company  33585 non-null  object        \n",
      " 10  production_country  39178 non-null  object        \n",
      " 11  spoken_language     41631 non-null  object        \n",
      " 12  release_year        45376 non-null  float64       \n",
      " 13  release_month       45376 non-null  float64       \n",
      " 14  release_dayofweek   45376 non-null  float64       \n",
      " 15  release_is_weekend  45466 non-null  bool          \n",
      "dtypes: bool(1), datetime64[ns](1), float64(8), object(6)\n",
      "memory usage: 5.2+ MB\n"
     ]
    }
   ],
   "source": [
    "#release_date column break down\n",
    "\n",
    "df['release_year'] = df.release_date.apply(lambda x: x.year)\n",
    "df['release_month'] = df.release_date.apply(lambda x: x.month)\n",
    "df['release_dayofweek'] = df.release_date.apply(lambda x: x.dayofweek)\n",
    "\n",
    "#to produce weekend results\n",
    "df['release_is_weekend'] = df.release_date.apply(lambda x: x.dayofweek >3)\n",
    "\n",
    "df.info()"
   ]
  },
  {
   "cell_type": "code",
   "execution_count": 11,
   "id": "607886d2",
   "metadata": {},
   "outputs": [
    {
     "name": "stdout",
     "output_type": "stream",
     "text": [
      "<class 'pandas.core.frame.DataFrame'>\n",
      "RangeIndex: 32020 entries, 0 to 32019\n",
      "Data columns (total 16 columns):\n",
      " #   Column              Non-Null Count  Dtype         \n",
      "---  ------              --------------  -----         \n",
      " 0   budget              32020 non-null  float64       \n",
      " 1   popularity          32020 non-null  object        \n",
      " 2   release_date        32020 non-null  datetime64[ns]\n",
      " 3   revenue             32020 non-null  float64       \n",
      " 4   runtime             32020 non-null  float64       \n",
      " 5   title               32020 non-null  object        \n",
      " 6   vote_average        32020 non-null  float64       \n",
      " 7   vote_count          32020 non-null  float64       \n",
      " 8   genre               32020 non-null  object        \n",
      " 9   production_company  32020 non-null  object        \n",
      " 10  production_country  32020 non-null  object        \n",
      " 11  spoken_language     32020 non-null  object        \n",
      " 12  release_year        32020 non-null  float64       \n",
      " 13  release_month       32020 non-null  float64       \n",
      " 14  release_dayofweek   32020 non-null  float64       \n",
      " 15  release_is_weekend  32020 non-null  bool          \n",
      "dtypes: bool(1), datetime64[ns](1), float64(8), object(6)\n",
      "memory usage: 3.7+ MB\n"
     ]
    }
   ],
   "source": [
    "# drop null values\n",
    "\n",
    "df = df.dropna().reset_index(drop=True)\n",
    "df.info()"
   ]
  },
  {
   "cell_type": "code",
   "execution_count": 12,
   "id": "0adce51d",
   "metadata": {
    "scrolled": false
   },
   "outputs": [
    {
     "data": {
      "text/plain": [
       "Drama              9081\n",
       "Comedy             6562\n",
       "Action             3692\n",
       "Horror             2087\n",
       "Crime              1435\n",
       "Documentary        1334\n",
       "Thriller           1312\n",
       "Adventure          1301\n",
       "Romance             931\n",
       "Animation           830\n",
       "Fantasy             573\n",
       "Science Fiction     502\n",
       "Mystery             457\n",
       "Family              395\n",
       "Western             375\n",
       "Music               324\n",
       "War                 308\n",
       "TV Movie            245\n",
       "History             216\n",
       "Foreign              60\n",
       "Name: genre, dtype: int64"
      ]
     },
     "execution_count": 12,
     "metadata": {},
     "output_type": "execute_result"
    }
   ],
   "source": [
    "df.genre.value_counts()"
   ]
  },
  {
   "cell_type": "code",
   "execution_count": null,
   "id": "f974015d",
   "metadata": {},
   "outputs": [],
   "source": [
    "11 categories: drama, comedy, action, horror, crime, documentary, thriller, romance, animation, fantasy, other\n",
    "history -> documentary\n",
    "thriller -> horror\n",
    "mystery -> crime\n",
    "war -> action\n",
    "western ->action\n",
    "science fiction -> fantasy\n",
    "family -> animation\n",
    "adventure -> action?\n",
    "other = foreign, tv movie, music"
   ]
  },
  {
   "cell_type": "code",
   "execution_count": null,
   "id": "09bd7202",
   "metadata": {},
   "outputs": [],
   "source": [
    "#Go back to this code\n",
    "\n",
    "df.loc[df.genre[\"History\"].value_counts().reset_index(), df.genre[\"Documentary\"]] = \"Documentary\"\n",
    "df.loc[df.genre[\"War\"].value_counts().reset_index()] = df.genre[\"Action\"]\n",
    "df.loc[df.genre[\"Western\"].value_counts().reset_index()] = df.genre[\"Action\"]\n",
    "df.loc[df.genre[\"Science Fiction\"].value_counts().reset_index()] = df.genre[\"Fantasy\"]\n",
    "df.loc[df.genre[\"Family\"].value_counts().reset_index()] = df.genre[\"Animation\"]\n",
    "df.loc[df.genre[\"Mystery\"].value_counts().reset_index()] = df.genre[\"Crime\"]\n",
    "df.loc[df.genre[\"Adventure\"].value_counts().reset_index()] = df.genre[\"Action\"]"
   ]
  },
  {
   "cell_type": "code",
   "execution_count": null,
   "id": "af6bdd23",
   "metadata": {},
   "outputs": [],
   "source": [
    "#combining leftovers into category 'other'\n",
    "\n",
    "# df.loc[~df['genre'].isin(), 'genre'] = 'other'"
   ]
  },
  {
   "cell_type": "code",
   "execution_count": null,
   "id": "aedc6a22",
   "metadata": {},
   "outputs": [],
   "source": []
  },
  {
   "cell_type": "code",
   "execution_count": 16,
   "id": "26246a9a",
   "metadata": {
    "scrolled": true
   },
   "outputs": [
    {
     "data": {
      "text/plain": [
       "Paramount Pictures                        975\n",
       "Metro-Goldwyn-Mayer (MGM)                 807\n",
       "Twentieth Century Fox Film Corporation    764\n",
       "Universal Pictures                        739\n",
       "Warner Bros.                              735\n",
       "Columbia Pictures                         419\n",
       "Columbia Pictures Corporation             394\n",
       "RKO Radio Pictures                        288\n",
       "United Artists                            269\n",
       "New Line Cinema                           255\n",
       "Walt Disney Pictures                      248\n",
       "Mosfilm                                   178\n",
       "Miramax Films                             171\n",
       "TriStar Pictures                          158\n",
       "Toho Company                              127\n",
       "Gaumont                                   121\n",
       "Orion Pictures                            107\n",
       "BBC Films                                 105\n",
       "Touchstone Pictures                        98\n",
       "France 2 Cinéma                            98\n",
       "Fox Searchlight Pictures                   89\n",
       "Walt Disney Productions                    89\n",
       "Village Roadshow Pictures                  88\n",
       "Universal International Pictures (UI)      81\n",
       "DreamWorks SKG                             76\n",
       "Hammer Film Productions                    74\n",
       "Lions Gate Films                           72\n",
       "Channel Four Films                         72\n",
       "New World Pictures                         67\n",
       "British Broadcasting Corporation (BBC)     67\n",
       "The Rank Organisation                      67\n",
       "First National Pictures                    64\n",
       "Nikkatsu                                   63\n",
       "Lionsgate                                  62\n",
       "Regency Enterprises                        62\n",
       "Canal+                                     62\n",
       "StudioCanal                                61\n",
       "American International Pictures (AIP)      61\n",
       "Shaw Brothers                              60\n",
       "Shôchiku Eiga                              60\n",
       "Nordisk Film                               59\n",
       "Monogram Pictures                          59\n",
       "CJ Entertainment                           58\n",
       "TLA Releasing                              58\n",
       "Imagine Entertainment                      57\n",
       "Summit Entertainment                       55\n",
       "Hollywood Pictures                         54\n",
       "Svensk Filmindustri (SF)                   53\n",
       "DC Comics                                  52\n",
       "Rai Cinema                                 51\n",
       "Name: production_company, dtype: int64"
      ]
     },
     "execution_count": 16,
     "metadata": {},
     "output_type": "execute_result"
    }
   ],
   "source": [
    "df.production_company.value_counts()[df.production_company.value_counts() >50]"
   ]
  },
  {
   "cell_type": "code",
   "execution_count": null,
   "id": "7f346cc5",
   "metadata": {},
   "outputs": [],
   "source": [
    "#Go back to this code\n",
    "\n",
    "df.loc[df.production_company[\"Lionsgate\"].value_counts()] = df.production_company[\"Lions Gate Films\"]                      \n",
    "df.loc[df.production_company[\"British Broadcasting Corporation (BBC)\"].value_counts().reset_index()] = df.production_company[\"BBC Films\"]\n",
    "df.loc[df.production_company[\"Universal International Pictures (UI)\"].value_counts = df.production_company[\"Universal Pictures\"]                      \n",
    "df.loc[df.production_company[\"Walt Disney Productions\"].value_counts().reset_index() = df.production_company[\"Walt Disney Pictures\"]\n",
    "df.loc[df.production_company[\"Fox Searchlight Pictures\"].value_counts().reset_index()] = df.production_company[\"Twentieth Century Fox Film Corporation\"]\n",
    "df.loc[df.production_company[\"Columbia Pictures Corporation\"].value_counts().reset_index()] = df.production_company[\"Columbia Pictures\"]\n",
    "df.loc[df.production_company[\"DreamWorks SKG\"].value_counts().reset_index()] = df.production_company[\"Walt Disney Pictures\"]"
   ]
  },
  {
   "cell_type": "code",
   "execution_count": null,
   "id": "d9edc5a4",
   "metadata": {},
   "outputs": [],
   "source": [
    "#combining leftovers into category 'other'\n",
    "\n",
    "# df.loc[~df['production_company'].isin(top10), 'production_company'] = 'other'"
   ]
  },
  {
   "cell_type": "code",
   "execution_count": null,
   "id": "d9b0d7d6",
   "metadata": {},
   "outputs": [],
   "source": []
  },
  {
   "cell_type": "code",
   "execution_count": null,
   "id": "90ff84fe",
   "metadata": {},
   "outputs": [],
   "source": []
  },
  {
   "cell_type": "code",
   "execution_count": 13,
   "id": "d1fe1208",
   "metadata": {},
   "outputs": [
    {
     "data": {
      "text/plain": [
       "United States of America    15644\n",
       "United Kingdom               2585\n",
       "France                       2243\n",
       "Canada                       1210\n",
       "Japan                        1196\n",
       "                            ...  \n",
       "Syrian Arab Republic            1\n",
       "Namibia                         1\n",
       "Botswana                        1\n",
       "Tanzania                        1\n",
       "Azerbaijan                      1\n",
       "Name: production_country, Length: 139, dtype: int64"
      ]
     },
     "execution_count": 13,
     "metadata": {},
     "output_type": "execute_result"
    }
   ],
   "source": [
    "df.production_country.value_counts()"
   ]
  },
  {
   "cell_type": "code",
   "execution_count": 14,
   "id": "736203ae",
   "metadata": {},
   "outputs": [
    {
     "data": {
      "text/plain": [
       "United States of America    15644\n",
       "United Kingdom               2585\n",
       "France                       2243\n",
       "Canada                       1210\n",
       "Japan                        1196\n",
       "Germany                      1118\n",
       "Italy                        1068\n",
       "Name: production_country, dtype: int64"
      ]
     },
     "execution_count": 14,
     "metadata": {},
     "output_type": "execute_result"
    }
   ],
   "source": [
    "#Keep production companies with over 1000 values\n",
    "\n",
    "df.production_country.value_counts()[df.production_country.value_counts() > 1000]"
   ]
  },
  {
   "cell_type": "code",
   "execution_count": null,
   "id": "2c47677e",
   "metadata": {},
   "outputs": [],
   "source": [
    "#combining leftovers into category 'other'\n",
    "\n",
    "# df.loc[~df.production_country.isin(df.production_country.value_counts() < 1000), 'production_country'] = 'other'"
   ]
  },
  {
   "cell_type": "code",
   "execution_count": null,
   "id": "20fdb4e3",
   "metadata": {},
   "outputs": [],
   "source": []
  },
  {
   "cell_type": "code",
   "execution_count": null,
   "id": "16bacf7e",
   "metadata": {},
   "outputs": [],
   "source": []
  },
  {
   "cell_type": "code",
   "execution_count": 18,
   "id": "3ae26e82",
   "metadata": {},
   "outputs": [
    {
     "data": {
      "text/plain": [
       "English        21269\n",
       "Français        1884\n",
       "日本語             1080\n",
       "Deutsch          950\n",
       "Italiano         943\n",
       "Español          793\n",
       "Pусский          713\n",
       "हिन्दी           317\n",
       "广州话 / 廣州話        316\n",
       "한국어/조선말          300\n",
       "普通话              271\n",
       "svenska          259\n",
       "Português        249\n",
       "No Language      230\n",
       "Dansk            226\n",
       "العربية          213\n",
       "Český            206\n",
       "suomi            200\n",
       "Nederlands       183\n",
       "Polski           164\n",
       "                 162\n",
       "Name: spoken_language, dtype: int64"
      ]
     },
     "execution_count": 18,
     "metadata": {},
     "output_type": "execute_result"
    }
   ],
   "source": [
    "#Keep languages with over 100 values\n",
    "\n",
    "df.spoken_language.value_counts()[df.spoken_language.value_counts() >100]"
   ]
  },
  {
   "cell_type": "code",
   "execution_count": null,
   "id": "f43acf48",
   "metadata": {},
   "outputs": [],
   "source": [
    "#Go back to this code\n",
    "\n",
    "df.loc[df.spoken_language[\"日本語\"] = df.spoken_language[\"Japanese\"] \n",
    "df.loc[df.spoken_language[\"广州话 / 廣州話\"] = df.spoken_language[\"Chinese\"]\n",
    "df.loc[df.spoken_language[\"普通话\"] = df.spoken_language[\"Chinese\"]"
   ]
  },
  {
   "cell_type": "code",
   "execution_count": null,
   "id": "8823a4e8",
   "metadata": {},
   "outputs": [],
   "source": [
    "#combining leftovers into category 'other'\n",
    "\n",
    "# df.loc[~df.spoken_language.isin(df.spoken_language.value_counts() < 100), 'spoken_language'] = 'other'"
   ]
  },
  {
   "cell_type": "code",
   "execution_count": null,
   "id": "4bbeff70",
   "metadata": {},
   "outputs": [],
   "source": [
    "# contains(genre).apply(lambda x:1 if x else 0)"
   ]
  },
  {
   "cell_type": "code",
   "execution_count": null,
   "id": "19b1233d",
   "metadata": {},
   "outputs": [],
   "source": [
    "# Save copy to new df\n",
    "\n",
    "# df1 = df.copy()"
   ]
  },
  {
   "cell_type": "code",
   "execution_count": null,
   "id": "0728aa53",
   "metadata": {},
   "outputs": [],
   "source": [
    "#save new df to csv file\n",
    "\n",
    "# df1.pd.to_csv(\"movies_cleaner.csv\")"
   ]
  },
  {
   "cell_type": "code",
   "execution_count": null,
   "id": "1f50b7c6",
   "metadata": {},
   "outputs": [],
   "source": []
  },
  {
   "cell_type": "code",
   "execution_count": null,
   "id": "38f362a4",
   "metadata": {},
   "outputs": [],
   "source": [
    "#Open other notebook for Machine Learning"
   ]
  }
 ],
 "metadata": {
  "kernelspec": {
   "display_name": "Python 3 (ipykernel)",
   "language": "python",
   "name": "python3"
  },
  "language_info": {
   "codemirror_mode": {
    "name": "ipython",
    "version": 3
   },
   "file_extension": ".py",
   "mimetype": "text/x-python",
   "name": "python",
   "nbconvert_exporter": "python",
   "pygments_lexer": "ipython3",
   "version": "3.9.13"
  }
 },
 "nbformat": 4,
 "nbformat_minor": 5
}
